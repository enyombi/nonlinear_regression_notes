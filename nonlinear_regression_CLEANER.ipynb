{
 "cells": [
  {
   "cell_type": "markdown",
   "metadata": {},
   "source": [
    "#### Nonlinear Regression -- computational techniques/notes\n",
    "\n",
    "__prep'd by__: Eru Kyeyune-Nyombi, PhD\n",
    "\n",
    "__Ref__: Nonlinear Regression Analysis and Its Applications, \n",
    "1st ed., Douglas M.Bates and Donald G. Watts \n",
    "\n",
    "__Date__: 2-July-2019"
   ]
  },
  {
   "cell_type": "markdown",
   "metadata": {},
   "source": [
    "-------\n",
    "\n",
    "## <font color ='red'>Motivation/context</font>:\n",
    "\n",
    "* __context__ -- Nyombi was developing software algorithms for estimating a battery's state-of-charge (SoC) and encountered the following used in python:\n",
    "\n",
    "        q, r = np.linalg.qr(UY.T)       # QR decomposition\n",
    "    \n",
    "        U, S, _ = np.linalg.svd(WOW, full_matrices=False) # singular value decomposition\n",
    "\n",
    "\n",
    "* __objective__ -- to _really_ understand how/why these computational methods (i.e., SVD and QR decomposition) are used in nonlinear regression so that they can be more easily implemented in another programming-language (C, C++, etc.)\n",
    "\n",
    "    * <font color ='green'>__Ans_why__</font>: QR and SVD are used for faster computation. I.e., they break-up/decompose a larger matrix into smaller pieces to simplify computation\n",
    "\n",
    "    * <font color='blue'>__Ans_how__</font>: TBD; answered in this notebook\n",
    "    \n",
    "------"
   ]
  },
  {
   "cell_type": "code",
   "execution_count": 1,
   "metadata": {},
   "outputs": [],
   "source": [
    "import numpy as np\n",
    "from scipy.linalg import solve # x = solve(A,b) when Ax = b and A,x,b are matrices\n",
    "import matplotlib.pyplot as plt\n",
    "import math\n",
    "\n",
    "from IPython.display import display, Math # for print math equations"
   ]
  },
  {
   "cell_type": "markdown",
   "metadata": {},
   "source": [
    "### <font color='blue'> --------------------------------- Example PCB 1, start\n",
    "    \n",
    "### _pseudocode_\n",
    "\n",
    "$\\ln([\\text{PCB}]) = \\beta_1 + \\beta_2 \\text{age}$\n",
    "\n",
    "$y = [1 \\hspace{1em} x][\\beta_1 \\hspace{1em} \\beta_2]^T$\n",
    "\n",
    "where, $y = \\ln([\\text{PCB}])$ and $x$ = age\n",
    "\n",
    "\\begin{equation*}\n",
    "\\begin{bmatrix}\n",
    "y_1 \\\\ y_2 \\\\ ... \\\\ y_N\n",
    "\\end{bmatrix}\n",
    "=\n",
    "\\begin{bmatrix}\n",
    "1 & x_1 \\\\ 1 & x_2 \\\\ ... \\\\ 1 & x_N\n",
    "\\end{bmatrix}\n",
    "\\begin{bmatrix}\n",
    "\\beta_1 \\\\ \\beta_2\n",
    "\\end{bmatrix}\n",
    "\\end{equation*}\n",
    "\n",
    "\n",
    "    beta = solve(Y, X)\n"
   ]
  },
  {
   "cell_type": "code",
   "execution_count": 2,
   "metadata": {},
   "outputs": [],
   "source": [
    "file1 = open(\"PCB_data.txt\",\"r\")\n",
    "tmp = file1.readlines()\n",
    "file1.close()"
   ]
  },
  {
   "cell_type": "code",
   "execution_count": 3,
   "metadata": {},
   "outputs": [],
   "source": [
    "age = [] # initialize list\n",
    "PCB = [] # initialize\n",
    "for ii in range(1,len(tmp)):\n",
    "    a = tmp[ii].split()\n",
    "    age.append(float(a[0]))\n",
    "    PCB.append(float(a[1]))\n"
   ]
  },
  {
   "cell_type": "code",
   "execution_count": 4,
   "metadata": {
    "scrolled": true
   },
   "outputs": [
    {
     "data": {
      "text/plain": [
       "Text(0, 0.5, 'PCB, ppm')"
      ]
     },
     "execution_count": 4,
     "metadata": {},
     "output_type": "execute_result"
    },
    {
     "data": {
      "image/png": "[encoded data removed]",
      "text/plain": [
       "<Figure size 1152x720 with 1 Axes>"
      ]
     },
     "metadata": {
      "needs_background": "light"
     },
     "output_type": "display_data"
    }
   ],
   "source": [
    "plt.rcParams['figure.figsize'] = [16, 10]\n",
    "plt.rcParams['font.size'] = 18\n",
    "\n",
    "plt.plot(age, PCB, '.')\n",
    "plt.xlabel('age, yrs')\n",
    "plt.ylabel('PCB, ppm')\n",
    "# plt.plot(age**(1/3.0),PCB, '.')"
   ]
  },
  {
   "cell_type": "markdown",
   "metadata": {},
   "source": [
    "### <font color='blue'> --------------------------------- Example PCB 1, end"
   ]
  },
  {
   "cell_type": "markdown",
   "metadata": {},
   "source": [
    "## compute $\\hat{\\beta}$ using definition of orthogonality\n",
    "\n",
    "\\begin{eqnarray*}\n",
    "\\pmb{X}^T (\\pmb{y} - \\pmb{X\\hat{\\beta}}) &=& 0 \\\\\n",
    "\\pmb{X}^T \\pmb{y} - \\pmb{X}^T \\pmb{X\\hat{\\beta}} &=& 0 \\\\\n",
    "\\pmb{X}^T \\pmb{y} &=& \\pmb{X}^T \\pmb{X\\hat{\\beta}} \\\\\n",
    "\\pmb{X}^T \\pmb{y} &=& \\left(\\pmb{X}^T\\pmb{X}\\right)^{-1} \\pmb{\\hat{\\beta}} \\\\\n",
    "\\left(\\pmb{X}^T\\pmb{X}\\right)^{-1} \\pmb{X}^T \\pmb{y} &=& \\pmb{\\hat{\\beta}}\n",
    "\\end{eqnarray*}\n",
    "\n",
    "\n",
    "To solve, decompose $\\pmb{X}$ into a product of an orthogonal matrix and an easily intervted matrix. Two decompostion methods:\n",
    "\n",
    "1) QR decomposition\n",
    "* Uses:\n",
    "    * Gram-Schmidt Orthogonalization or\n",
    "    * Householder Transformation/tridiagonalization\n",
    "\n",
    "2) singular value decomposition (SVD)"
   ]
  },
  {
   "cell_type": "markdown",
   "metadata": {},
   "source": [
    "-------\n",
    "-----\n",
    "\n",
    "### Explanation of QR decomposition\n",
    "\n",
    "\\begin{equation*}\n",
    "\\pmb{X} = \\pmb{QR}\n",
    "\\end{equation*}\n",
    "\n",
    "with \n",
    "\n",
    "1) Gram-Schmidt Orthogonalization or\n",
    "\n",
    "2) Householder Transformation"
   ]
  },
  {
   "cell_type": "markdown",
   "metadata": {},
   "source": [
    "-------\n",
    "\n",
    "### <font color = 'blue'> Gram-Schmidt Orthogonalization </font>\n",
    "\n",
    "Given a set of vectors $\\pmb{A}$\n",
    "\n",
    "\\begin{equation*}\n",
    "\\pmb{A} = [a_1, a_2]\n",
    "\\end{equation*}\n",
    "\n",
    "\\begin{equation*}\n",
    "\\pmb{A} = \n",
    "\\begin{bmatrix}\n",
    "2 & 2 \\\\ 1 & 2\n",
    "\\end{bmatrix}\n",
    "\\end{equation*}\n",
    "\n",
    "where $a_1 = [2,1]^T$ and $a_2 = [2,2]^T$\n",
    "\n",
    "Gram-Schmidt finds the orthonormal basis for $\\pmb{A}$\n",
    "\n",
    "\\begin{equation*}\n",
    "\\pmb{u_1} = \\pmb{a_1}\n",
    "\\end{equation*}\n",
    "\n",
    "\\begin{equation*}\n",
    "\\pmb{u_2} = \\pmb{a_1} - \\text{proj}_{\\pmb{u_1}} \\pmb{a_2}\n",
    "\\end{equation*}\n",
    "\n",
    "Now because $u_1$ and $u_2$ are orthogonal, you have the following:\n",
    "\n",
    "\\begin{equation*}\n",
    "\\pmb{u_1} \\cdot \\pmb{u_2}^T = 0\n",
    "\\end{equation*}\n",
    "\n",
    "https://en.wikipedia.org/wiki/Gram–Schmidt_process\n",
    "\n",
    "\n",
    "-----------------------x \n",
    "\n",
    "good ref. on Householder Transformation, which is used for QR decomposition in \n",
    "\"Nonlinear Regresssion and Its Apps.\" by Bates and Watts\n",
    "\n",
    "http://mathfaculty.fullerton.edu/mathews/n2003/HouseholderMod.html\n",
    "\n",
    "\n",
    "## Next:\n",
    "\n",
    "1) finish example of Householder transformation\n",
    "\n",
    "see http://mathfaculty.fullerton.edu/mathews/n2003/HouseholderMod.html\n",
    "\n",
    "2) complete example of QR decomposition via Householder Transformation\n",
    "\n",
    "see Appendix 2 pg. 286 in \"Nonlinear Regresssion and Its Apps.\" by Bates and Watts\n",
    "\n",
    "3) Study singular value decomposition (SVD)"
   ]
  },
  {
   "cell_type": "markdown",
   "metadata": {},
   "source": [
    "---------"
   ]
  },
  {
   "cell_type": "markdown",
   "metadata": {},
   "source": [
    "## <font color ='blue'> Householder Transformation/Tridiagonalization </font>\n",
    "\n",
    "ref: http://mathfaculty.fullerton.edu/mathews/n2003/HouseholderMod.html\n",
    "\n",
    "Theorem: If $\\pmb{P}$ is a Householder matrix, the transformation $\\pmb{PAP}$ is accomplished as follows....\n",
    "\n",
    "Let $\\pmb{V = Aw}$\n",
    "\n",
    "compute $\\pmb{c = W^T V}$ and $\\pmb{Q = V - cW}$\n",
    "\n",
    "then, \n",
    "\n",
    "\\begin{equation*}\n",
    "\\boxed{\n",
    "\\pmb{PAP} = \\pmb{A} - 2\\pmb{W}^T\\pmb{Q} - 2\\pmb{Q}\\pmb{W}^T\n",
    "}\n",
    "\\end{equation*}"
   ]
  },
  {
   "cell_type": "markdown",
   "metadata": {},
   "source": [
    "example: Use Householder's method to reduce the symmetric matrix $\\pmb{A_0}$ into a symmetric tridiagonal matrix \n",
    "\n",
    "\\begin{equation*}\n",
    "\\pmb{A_0} = \n",
    "\\begin{bmatrix}\n",
    "4 & 2 & 2 & 1 \\\\\n",
    "2 & -3 & 1 & 1 \\\\\n",
    "2 & 1 & 3 & 1 \\\\\n",
    "1 & 1 & 1 & 2 \n",
    "\\end{bmatrix}\n",
    "\\end{equation*}\n",
    "\n",
    "\n",
    "\\begin{equation*}\n",
    "\\pmb{X} =\n",
    "\\begin{bmatrix}\n",
    "x_1 \\\\\n",
    "x_2 \\\\\n",
    "x_3 \\\\\n",
    "x_4\n",
    "\\end{bmatrix}\n",
    "=\n",
    "\\begin{bmatrix}\n",
    "4 \\\\\n",
    "2 \\\\\n",
    "2 \\\\\n",
    "1 \n",
    "\\end{bmatrix}\n",
    "\\end{equation*}\n",
    "\n",
    "\\begin{eqnarray*}\n",
    "S &=& \\text{magnitude of all elements in $\\pmb{X}$ except $x_1$} \\\\\n",
    "&=& \\sqrt{x_2^2 + x_3^2 + x_4^2} \\\\\n",
    "&=& \\sqrt{2^2 + 2^2 + 1^2} \\\\\n",
    "&=& \\sqrt{9} \\\\\n",
    "&=& 3\n",
    "\\end{eqnarray*}\n",
    "\n",
    "\\begin{eqnarray*}\n",
    "R &=& \\sqrt{2 S (S + x_2)} \\\\\n",
    "&=& \\sqrt{2(3)(3 + 2)} \\\\\n",
    "&=& \\sqrt{30}\n",
    "\\end{eqnarray*}\n",
    "\n",
    "\\begin{eqnarray*}\n",
    "\\pmb{W} &=& \\frac{1}{R}\n",
    "\\begin{bmatrix}\n",
    "0 & S + x_2 & x_3 & x_4\n",
    "\\end{bmatrix}\n",
    "\\\\\n",
    "&=& \\frac{1}{\\sqrt{30}}\n",
    "\\begin{bmatrix}\n",
    "0 & 5 & 2 & 1\n",
    "\\end{bmatrix}\n",
    "\\end{eqnarray*}\n",
    "\n",
    "\n",
    "\\begin{equation*}\n",
    "\\pmb{V} = \\pmb{A_0} \\pmb{W}\n",
    "\\end{equation*}"
   ]
  },
  {
   "cell_type": "markdown",
   "metadata": {},
   "source": [
    "---------\n",
    "\n",
    "## <font color = 'violet'> QR decomposition via Householder reflections </font>\n",
    "\n",
    "- works by finding the appropriate Householder reflection matrices (i.e., $\\pmb{H_1}$, $\\pmb{H_2}$, etc.) and mulitplying them by the original matrix selected for decomposition (i.e., $\\pmb{A}$) to get the upper triangular matrix $\\pmb{R}$ \n",
    "\n",
    "Note: $\\pmb{Q} = \\pmb{H_1 H_2}...\\pmb{H_N}$\n",
    "\n",
    "- more common approach to QR decomposition than Gram-Schmidt orthogonalization because Gram-Schmidt orthogonalization can lead to inaccuracies in $\\pmb{Q}$\n",
    "\n",
    "- Householder reflections are another method of orthogonalization that <font color = 'blue'> transforms a vector $\\pmb{x}$ into a unit vector $\\pmb{y}$ which is parallel to $\\pmb{x}$ </font>\n",
    "\n",
    "\\begin{equation*}\n",
    "H = I - 2\\nu \\nu^T\n",
    "\\end{equation*}\n",
    "\n",
    " where,\n",
    "\n",
    "$\\pmb{H}$ = Householder reflection matrix \n",
    "\n",
    "$\\pmb{I}$ = identity matrix \n",
    "\n",
    "$\\nu$ = normal vector w.r.t. $\\pmb{H}$"
   ]
  },
  {
   "cell_type": "markdown",
   "metadata": {},
   "source": [
    "## Examaple: \n",
    "find the QR decomposition of matrix $\\pmb{A}$ via Householder reflections\n",
    "\n",
    "\\begin{equation*}\n",
    "A = \n",
    "\\begin{bmatrix}\n",
    "2 & -2 & 18 \\\\\n",
    "2 & 1 & 0 \\\\\n",
    "1 & 2 & 0\n",
    "\\end{bmatrix}\n",
    "\\end{equation*}\n",
    "\n",
    "### Solution:\n",
    "\n",
    "Find the reflection $\\pmb{\\nu_1}$ of first column in $\\pmb{A}$.\n",
    "\n",
    "\\begin{equation*}\n",
    "\\pmb{\\nu_1} = \\pmb{a_1} + \\text{sgn}(a_{11}) \\|\\pmb{a_1}\\| \\pmb{e_1}\n",
    "\\end{equation*}\n",
    "\n",
    "where,\n",
    "\n",
    "$\\rightarrow \\pmb{a_1}$ is the first column of $\\pmb{A}$\n",
    "\n",
    "$\\rightarrow e_1 = [1, 0, 0]$ = 1st orthonormal basis vector in space $\\mathbb{R}^3$\n",
    "\n",
    "\\begin{eqnarray*}\n",
    "\\pmb{\\nu_1} &=& \\pmb{a_1} + \\text{sgn}(a_{11}) \\|\\pmb{a_1}\\| \\pmb{e_1} \\\\\n",
    "&=&\n",
    "\\begin{bmatrix}\n",
    "2 \\\\ 2 \\\\ 1\n",
    "\\end{bmatrix}\n",
    "+ (+1) \\sqrt{2^2 + 2^2 + 1^2}\n",
    "\\begin{bmatrix}\n",
    "1 \\\\ 0 \\\\ 0\n",
    "\\end{bmatrix}\n",
    "\\\\\n",
    "&=&\n",
    "\\begin{bmatrix}\n",
    "2 \\\\ 2 \\\\ 1\n",
    "\\end{bmatrix}\n",
    "+ 3\n",
    "\\begin{bmatrix}\n",
    "1 \\\\ 0 \\\\ 0\n",
    "\\end{bmatrix}\n",
    "\\\\\n",
    "\\nu_1 &=&\n",
    "\\begin{bmatrix}\n",
    "5 \\\\ 2 \\\\ 1\n",
    "\\end{bmatrix}\n",
    "\\end{eqnarray*}\n",
    "\n",
    "Now solve for the Householder matrix...\n",
    "\n",
    "\\begin{eqnarray*}\n",
    "H &=& I - 2\\nu \\nu^T \\\\\n",
    "&=& \n",
    "\\begin{bmatrix}\n",
    "1 & 0 & 0 \\\\\n",
    "0 & 1 & 0 \\\\\n",
    "0 & 0 & 1 \n",
    "\\end{bmatrix}\n",
    "- 2\n",
    "\\begin{bmatrix}\n",
    "5 \\\\ 2 \\\\ 1\n",
    "\\end{bmatrix}\n",
    "\\begin{bmatrix}\n",
    "5 & 2 & 1\n",
    "\\end{bmatrix}\n",
    "\\end{eqnarray*}"
   ]
  },
  {
   "cell_type": "markdown",
   "metadata": {},
   "source": [
    "## Example PCB 14: \n",
    "QR decompositon of matrix $\\pmb{X}$ using Householder Reflections\n",
    "\n",
    "<font color = 'blue'> ref: pg286-88, Bates and Watts \"Nonlinear Regression and Its Apps\" </font>\n",
    "\n",
    "\n",
    "\\begin{equation*}\n",
    "\\pmb{X} =\n",
    "\\begin{bmatrix}\n",
    "1 & 1.26 \\\\\n",
    "1 & 1.82 \\\\\n",
    "1 & 2.22\n",
    "\\end{bmatrix}\n",
    "\\end{equation*}\n",
    "\n",
    "\n",
    "## solution: \n",
    "\n",
    "\\begin{equation*}\n",
    "\\boxed{\n",
    "\\pmb{H} = \\pmb{I} - 2\\pmb{uu^T}\n",
    "}\n",
    "\\end{equation*}\n",
    "\n",
    "where,\n",
    "\n",
    "\\begin{equation*}\n",
    "\\pmb{u} = \\frac{\\pmb{y} + \\| \\pmb{y} \\| \\pmb{e_1}}{\\| \\left( \\pmb{y} + \\| \\pmb{y} \\| \\pmb{e_1} \\right) \\|}\n",
    "\\end{equation*}\n",
    "\n",
    "or\n",
    "\n",
    "\\begin{equation*}\n",
    "\\pmb{u} = \\frac{\\pmb{y} - \\| \\pmb{y} \\| \\pmb{e_1}}{\\| \\left( \\pmb{y} - \\| \\pmb{y} \\| \\pmb{e_1} \\right) \\|}\n",
    "\\end{equation*}\n",
    "\n",
    "$\\pmb{e_1} = [1,0,0, ....,0]^T$\n",
    "\n",
    "\n",
    "1st column in $\\pmb{X}$ is $\\pmb{x_1} = [1,1,1]^T \\equiv \\pmb{y}$ \n",
    "\n",
    "$\\| \\pmb{y} \\| = \\sqrt{1^2 + 1^2 + 1^2} = \\sqrt{3}$\n",
    "\n",
    "So,\n",
    "\n",
    "\\begin{equation*}\n",
    "u = \\frac{[1,1,1]^T - \\sqrt{3} [1,0,0]^T}{\\| \\left( [1,1,1]^T - \\sqrt{3} [1,0,0]^T \\right) \\|}\n",
    "\\end{equation*}\n",
    "\n",
    "    y = np.ones([1,3])\n",
    "    e = np.array([1,0,0])*math.sqrt(3)\n",
    "    u = (y-b)/np.linalg.norm(y-b)\n",
    "    print(u)\n",
    "\n",
    "    [[-0.45970084  0.62796303  0.62796303]]\n",
    "\n",
    "------------------------x\n",
    "\\begin{equation*}\n",
    "\\pmb{H} = \\pmb{I} - 2\\pmb{uu^T}\n",
    "\\end{equation*}\n",
    "    \n",
    "    H = np.identity(3) - 2*u * u.T\n",
    "    print(H)\n",
    "    \n",
    "    [[ 0.57735027  0.57735027  0.57735027]\n",
    "     [ 0.57735027  0.21132487 -0.78867513]\n",
    "     [ 0.57735027 -0.78867513  0.21132487]]\n",
    "\n",
    "------------------------x\n",
    "\n",
    "\\begin{equation*}\n",
    "\\pmb{X_1} = \\pmb{HX}\n",
    "\\end{equation*}\n",
    "\n",
    "    X = np.mat([[1,1.26],[1,1.82],[1,2.22]])\n",
    "    print(X)\n",
    "    \n",
    "    [[1.   1.26]\n",
    "     [1.   1.82]\n",
    "     [1.   2.22]]\n",
    "     \n",
    "    X1 = np.matrix.round(H*X,2)\n",
    "    print(X1)\n",
    "    \n",
    "    [[ 1.7321  3.06  ]\n",
    "     [-0.     -0.6388]\n",
    "     [-0.     -0.2388]]\n",
    "\n",
    "===================================================x\n",
    "\n",
    "Now perform a 2nd rotation/orthogonalization \n",
    "by choosing $\\pmb{u_2}$ so that Householder refelection $\\pmb{H_2}$ \n",
    "has zeros in all elements\n",
    "below the diagonal element of the 2nd column in $\\pmb{X_1}$\n",
    "\n",
    "\\begin{equation*}\n",
    "\\pmb{y_2} \\equiv \\text{elements below diagonal element in 2nd column of } \\pmb{X_1} \n",
    "= \n",
    "\\begin{bmatrix}\n",
    "0 \\\\ -0.6388 \\\\ -0.2388\n",
    "\\end{bmatrix}\n",
    "\\end{equation*}\n",
    "\n",
    "$\\| \\pmb{y_2} \\| = \\sqrt{0^2 + -0.6388^2 + 0.2388^2} \\approx 0.6820$\n",
    "\n",
    "Recall for the 1st Householder reflection, you calculate $\\pmb{u}$ (aka $\\pmb{u_1}$)...\n",
    "\n",
    "\\begin{equation*}\n",
    "\\pmb{u} = \\frac{\\pmb{y} - \\| \\pmb{y} \\| \\pmb{e_1}}{\\| \\left( \\pmb{y} - \\| \\pmb{y} \\| \\pmb{e_1} \\right) \\|}\n",
    "\\end{equation*}\n",
    "\n",
    "$\\pmb{e_1} = [1,0,0, ....,0]^T$\n",
    "\n",
    "...Now similarly, for the 2nd Householder reflection, calculate $\\pmb{u_2}$:\n",
    "\\begin{equation*}\n",
    "\\pmb{u_2} = \\frac{\\pmb{y_2} - \\| \\pmb{y_2} \\| \\pmb{e_2}}{\\| \\left( \\pmb{y_2} - \\| \\pmb{y_2} \\| \\pmb{e_2} \\right) \\|}\n",
    "\\end{equation*}\n",
    "\n",
    "$\\pmb{e_2} = [0,1,0, ....,0]^T$\n",
    "\n",
    "\n",
    "\\begin{equation*}\n",
    "\\pmb{u_2} = \\frac{[0, -0.6388, -0.2388]^T - 0.6820 [0,1,0]^T}{\\| \\left( [0, -0.6388, -0.2388]^T - 0.6820 [0,1,0]^T \\right) \\|}\n",
    "\\end{equation*}\n",
    "\n",
    "    y2 = np.copy(np.reshape(X1[:,1],[3,1]))\n",
    "    y2[0] = 0\n",
    "    e2 = np.mat([[0],[1],[0]])*np.linalg.norm(y2)\n",
    "    u2 = (y2-e2)/np.linalg.norm(y2-e2)\n",
    "    print(u2)\n",
    "    \n",
    "    [[ 0.        ]\n",
    "     [-0.98404528]\n",
    "     [-0.17791818]]\n",
    "\n",
    "------------------------x\n",
    "\n",
    "\\begin{equation*}\n",
    "\\pmb{H_2} = \\pmb{I} - 2\\pmb{u_2 u_2^T}\n",
    "\\end{equation*}\n",
    "    \n",
    "    H2 = np.identity(3) - (2*(u2*u2.T))\n",
    "    print(H2)\n",
    "    \n",
    "    [[ 1.          0.          0.        ]\n",
    "     [ 0.         -0.93669024 -0.35015909]\n",
    "     [ 0.         -0.35015909  0.93669024]]\n",
    "\n",
    "------------------------x\n",
    "\n",
    "\\begin{equation*}\n",
    "\\pmb{X_2} = \\pmb{H_2 X_1}\n",
    "\\end{equation*}\n",
    "\n",
    "recall, $\\pmb{X_1} = \\pmb{H X}$\n",
    "\n",
    "Therefore, \n",
    "\n",
    "\\begin{equation*}\n",
    "\\pmb{X_2} = \\pmb{H_2 H X} \\equiv \\pmb{R}\n",
    "\\end{equation*}\n",
    "\n",
    "where $\\pmb{R}$ is the upper triangular matrix in $\\pmb{QR}$ decomposition\n",
    "\n",
    "    X2 = np.matrix.round(H2 * X1,4)\n",
    "    print(X2)\n",
    "\n",
    "    [[ 1.7321  3.06  ]\n",
    "     [ 0.      0.682 ]\n",
    "     [ 0.     -0.    ]]\n",
    "  "
   ]
  },
  {
   "cell_type": "markdown",
   "metadata": {},
   "source": [
    "-----------------------------------------------x------------------------------------------------\n",
    "\n",
    "### <font color = 'red'> Remember: </font>\n",
    "QR decomposition is used to decompose matrix $\\pmb{X}$ when solving for least squares estimates...\n",
    "\n",
    "\\begin{equation*}\n",
    "\\left(\\pmb{X}^T\\pmb{X}\\right)^{-1} \\pmb{X}^T \\pmb{y} = \\pmb{\\hat{\\beta}}\n",
    "\\end{equation*}\n",
    "\n",
    "where, $\\pmb{X} = \\pmb{QR}$\n",
    "\n",
    "so, \n",
    "\n",
    "\\begin{equation*}\n",
    "\\pmb{R} = \\pmb{Q}^T \\pmb{X}\n",
    "\\end{equation*}\n",
    "\n",
    "recall from Example PCB 14 in Bates and Watts, $\\pmb{X_2} = \\pmb{H_2 H X} \\equiv \\pmb{R}$\n",
    "\n",
    "\\begin{equation*}\n",
    "\\pmb{R} = \\pmb{H_2 H X}\n",
    "\\end{equation*}\n",
    "\n",
    "Now together...\n",
    "\n",
    "\\begin{eqnarray*}\n",
    "\\pmb{R} &=& \\pmb{H_2 H X} \\\\\n",
    "\\pmb{R} &=& \\pmb{Q}^T \\pmb{X}\n",
    "\\end{eqnarray*}\n",
    "\n",
    "so, \n",
    "\n",
    "\\begin{eqnarray*}\n",
    "\\pmb{Q}^T &=& \\pmb{H_P ... H} \\\\\n",
    "\\pmb{Q} &=& \\pmb{H_P^T ... H^T}\n",
    "\\end{eqnarray*}\n",
    "\n",
    "where $P$ = # of columns in $\\pmb{X}$\n",
    "\n",
    "#### <font color = 'blue'> Now remember, Householder transformations $\\pmb{H}$ are by definition always symmetric! </font>\n",
    "\n",
    "so, \n",
    "\\begin{equation*}\n",
    "\\pmb{H_P}^T = \\pmb{H_P}\n",
    "\\end{equation*}\n",
    "\n",
    "Hence,\n",
    "\n",
    "\\begin{eqnarray*}\n",
    "\\pmb{Q}^T &=& \\pmb{H_P ... H} \\\\\n",
    "&=& \\pmb{H_P^T ... H^T}\n",
    "\\end{eqnarray*}\n",
    "\n",
    "\\begin{equation*}\n",
    "\\boxed{\n",
    "\\pmb{Q} = \\pmb{H_P^T ... H^T} = \\pmb{H ... H_P}\n",
    "}\n",
    "\\end{equation*}\n",
    "\n",
    "E.g., in Example PCB 14 $\\pmb{X}$ has 2 columns therefore, $\\pmb{Q} = \\pmb{H_2^T H^T} = \\pmb{HH_2}$\n",
    "\n",
    "-----------------------------------------------x------------------------------------------------"
   ]
  },
  {
   "cell_type": "markdown",
   "metadata": {},
   "source": [
    "### <font color='orange'> --------------------------------- Example PCB 14, start"
   ]
  },
  {
   "cell_type": "markdown",
   "metadata": {},
   "source": [
    "## Example PCB 14\n",
    "\n",
    "\n",
    "Example PCB1 ended with the following relationship:\n",
    "\n",
    "\\begin{equation*}\n",
    "\\boxed{\n",
    "\\ln(\\left[\\text{PCB}\\right]) = \\beta_0 + \\beta_1 \\text{age}^{1/3}\n",
    "}\n",
    "\\end{equation*}\n",
    "\n",
    "where, $y = \\ln([\\text{PCB}])$ and $x = \\text{age}^{1/3}$\n",
    "\n",
    "\n",
    "In example PCB 3 of Bates and Watts, you selected the following 3 datapts:\n",
    "\n",
    "(age$^{1/3}$, $\\ln([PCB])$)\n",
    "\n",
    "(1.26, 0.92)\n",
    "\n",
    "(1.82, 2.15)\n",
    "\n",
    "(2.22, 2.52)\n",
    "\n",
    "\n",
    "which are:\n",
    "\n",
    "(age, ppm of PCB) = \n",
    "\n",
    "(2,2.5) \n",
    "\n",
    "(6,8.6)\n",
    "\n",
    "(11,12.4)\n",
    "\n",
    "\n",
    "\\begin{equation*}\n",
    "\\begin{bmatrix}\n",
    "\\ln[\\text{PCB}_1] \\\\\n",
    "\\ln[\\text{PCB}_2] \\\\\n",
    "\\ln[\\text{PCB}_3] \n",
    "\\end{bmatrix}\n",
    "=\n",
    "\\begin{bmatrix}\n",
    "1 & \\text{age}_1^{1/3}\\\\\n",
    "1 & \\text{age}_2^{1/3}\\\\\n",
    "1 & \\text{age}_3^{1/3}\n",
    "\\end{bmatrix}\n",
    "\\begin{bmatrix}\n",
    "\\beta_0 \\\\\n",
    "\\beta_1\n",
    "\\end{bmatrix}\n",
    "\\end{equation*}\n",
    "\n",
    "where, \n",
    "\n",
    "$\\pmb{y} = \\left[\\ln[\\text{PCB}_1], \\ln[\\text{PCB}_2], \\ln[\\text{PCB}_3] \\right]^T = [0.92, 2.15, 2.52]^T$\n",
    "\n",
    "$\\pmb{\\beta} = \\left[\\beta_0, \\beta_1 \\right]^T$\n",
    "\n",
    "and \n",
    "\n",
    "\\begin{equation*}\n",
    "\\pmb{X} =\n",
    "\\begin{bmatrix}\n",
    "1 & 1.26 \\\\\n",
    "1 & 1.82 \\\\\n",
    "1 & 2.22\n",
    "\\end{bmatrix}\n",
    "\\end{equation*}\n",
    "\n",
    "Perform <font color ='red'> QR decomposition via Householder tridigonalization </font>\n",
    "on $\\pmb{X}$ to solve for least squares estimates $\\pmb{\\beta}$\n",
    "\n"
   ]
  },
  {
   "cell_type": "code",
   "execution_count": 5,
   "metadata": {},
   "outputs": [],
   "source": [
    "X = np.mat([[1,1.26],[1,1.82],[1,2.22]])"
   ]
  },
  {
   "cell_type": "markdown",
   "metadata": {},
   "source": [
    "### 1st Householder reflection, $\\pmb{H_1}$ ...\n",
    "\n",
    "\\begin{equation*}\n",
    "\\pmb{H_1} = \\pmb{I} - 2\\pmb{u_1 u_1^T}\n",
    "\\end{equation*}\n",
    "\n",
    "where, \n",
    "\n",
    "\\begin{equation*}\n",
    "\\pmb{u_1} = \\frac{\\pmb{x_1} - \\| \\pmb{x_1} \\| \\pmb{e_1}}{\\| \\left( \\pmb{x_1} - \\| \\pmb{x_1} \\| \\pmb{e_1} \\right) \\|}\n",
    "\\end{equation*}\n",
    "\n",
    "$\\pmb{x_1} = [1,1,1]^T \\equiv$ 1st column in matrix $\\pmb{X}$\n",
    "\n",
    "$\\| \\pmb{x_1} \\| = \\sqrt{1^2 + 1^2 + 1^2} = \\sqrt{3}$\n",
    "\n",
    "$\\pmb{e_1} = [1,0,0, ....,0]^T$ (basis vector for 1st dimension in Euclidean space)"
   ]
  },
  {
   "cell_type": "code",
   "execution_count": 6,
   "metadata": {},
   "outputs": [
    {
     "name": "stdout",
     "output_type": "stream",
     "text": [
      "[[ 0.57735027  0.57735027  0.57735027]\n",
      " [ 0.57735027  0.21132487 -0.78867513]\n",
      " [ 0.57735027 -0.78867513  0.21132487]]\n"
     ]
    }
   ],
   "source": [
    "x1 = X[:,0] # first column in matrix X\n",
    "e1 = np.array([1,0,0]).reshape(3,1)*math.sqrt(3)\n",
    "u1 = (x1-e1)/np.linalg.norm(x1-e1)\n",
    "\n",
    "H1 = np.identity(3) - 2*u1 * u1.T\n",
    "print(H1)"
   ]
  },
  {
   "cell_type": "markdown",
   "metadata": {},
   "source": [
    "### Use $\\pmb{H_1}$ to perform a rotation/orthogonalization on $\\pmb{X}$...\n",
    "\n",
    "\\begin{equation*}\n",
    "\\pmb{X_1} = \\pmb{H_1} \\pmb{X}\n",
    "\\end{equation*}\n"
   ]
  },
  {
   "cell_type": "code",
   "execution_count": 7,
   "metadata": {},
   "outputs": [
    {
     "name": "stdout",
     "output_type": "stream",
     "text": [
      "<class 'numpy.matrix'>\n",
      "<class 'numpy.matrix'>\n"
     ]
    }
   ],
   "source": [
    "print(type(H1))\n",
    "print(type(X))"
   ]
  },
  {
   "cell_type": "code",
   "execution_count": 8,
   "metadata": {},
   "outputs": [
    {
     "name": "stdout",
     "output_type": "stream",
     "text": [
      "[[ 1.7321  3.06  ]\n",
      " [-0.     -0.6388]\n",
      " [-0.     -0.2388]]\n"
     ]
    }
   ],
   "source": [
    "X1 = np.asmatrix(np.matrix.round(H1*X,4))\n",
    "print(X1)"
   ]
  },
  {
   "cell_type": "markdown",
   "metadata": {},
   "source": [
    "### Peform a 2nd rotation using the 2nd Householder reflection, $\\pmb{H_2}$ ...\n",
    "\n",
    "\\begin{equation*}\n",
    "\\pmb{H_2} = \\pmb{I} - 2\\pmb{u_2 u_2^T}\n",
    "\\end{equation*}\n",
    "\n",
    "where, \n",
    "\n",
    "\\begin{equation*}\n",
    "\\pmb{u_2} = \\frac{\\pmb{x_2} - \\| \\pmb{x_2} \\| \\pmb{e_2}}{\\| \\left( \\pmb{x_2} - \\| \\pmb{x_2} \\| \\pmb{e_1} \\right) \\|}\n",
    "\\end{equation*}\n",
    "\n",
    "$\\pmb{x_2} = [0,-0.6388,-0.2388]^T \\equiv$ 2nd column in matrix $\\pmb{X_1}$ but first element is replaced with 0\n",
    "\n",
    "$\\pmb{e_2} = [0,1,0, ....,0]^T$ (basis vector for 2nd dimension in Euclidean space)"
   ]
  },
  {
   "cell_type": "code",
   "execution_count": 9,
   "metadata": {},
   "outputs": [
    {
     "name": "stdout",
     "output_type": "stream",
     "text": [
      "[[ 1.          0.          0.        ]\n",
      " [ 0.         -0.93669024 -0.35015909]\n",
      " [ 0.         -0.35015909  0.93669024]]\n"
     ]
    }
   ],
   "source": [
    "x2 = np.copy(X1[:,1]).reshape(3,1)\n",
    "x2[0] = 0\n",
    "e2 = np.array([0,1,0]).reshape(3,1)*np.linalg.norm(x2)\n",
    "u2 = (x2-e2)/np.linalg.norm(x2-e2)\n",
    "\n",
    "H2 = np.identity(3) - (2*(u2*u2.T))\n",
    "print(H2)"
   ]
  },
  {
   "cell_type": "markdown",
   "metadata": {},
   "source": [
    "### ... the 2nd rotation $\\pmb{X_2}$ is the matrix $\\pmb{R}$\n",
    "\n",
    "\\begin{eqnarray*}\n",
    "\\pmb{X_2} &=& \\pmb{H_2 X_1} \\\\\n",
    "\\pmb{R} \\equiv \\pmb{X_2} &=& \\pmb{H_2} \\pmb{H_1} \\pmb{X}\n",
    "\\end{eqnarray*}\n",
    "\n",
    "(in other words, matrix $\\pmb{R} \\equiv$ product of all Householder reflections and $\\pmb{X}$)"
   ]
  },
  {
   "cell_type": "code",
   "execution_count": 10,
   "metadata": {},
   "outputs": [
    {
     "name": "stdout",
     "output_type": "stream",
     "text": [
      "[[ 1.7321  3.06  ]\n",
      " [ 0.      0.682 ]\n",
      " [ 0.     -0.    ]]\n"
     ]
    }
   ],
   "source": [
    "R = np.matrix.round(H2 * X1,4)\n",
    "print(R)"
   ]
  },
  {
   "cell_type": "markdown",
   "metadata": {},
   "source": [
    "### ...matrix $\\pmb{Q}$ is product of all Householder reflections...\n",
    "\n",
    "\\begin{eqnarray*}\n",
    "\\pmb{Q^T} &=& \\pmb{H_2 H_1}\\\\\n",
    "&-or-& \\\\\n",
    "\\pmb{Q} &=& \\pmb{H_1 H_2}\n",
    "\\end{eqnarray*}"
   ]
  },
  {
   "cell_type": "code",
   "execution_count": 11,
   "metadata": {},
   "outputs": [
    {
     "name": "stdout",
     "output_type": "stream",
     "text": [
      "[[ 0.5774 -0.743   0.3386]\n",
      " [ 0.5774  0.0782 -0.8127]\n",
      " [ 0.5774  0.6647  0.4741]]\n"
     ]
    }
   ],
   "source": [
    "Q = np.matrix.round(H1 * H2,4) # same as Q = np.matrix.round(H2.T * H.T,4)\n",
    "print(Q)"
   ]
  },
  {
   "cell_type": "markdown",
   "metadata": {},
   "source": [
    "### <font color ='red'> Check: </font>\n",
    "\n",
    "\\begin{equation*}\n",
    "\\pmb{X} = \\pmb{QR}\n",
    "\\end{equation*}"
   ]
  },
  {
   "cell_type": "code",
   "execution_count": 12,
   "metadata": {},
   "outputs": [
    {
     "name": "stdout",
     "output_type": "stream",
     "text": [
      "[[0. 0.]\n",
      " [0. 0.]\n",
      " [0. 0.]]\n"
     ]
    }
   ],
   "source": [
    "tmp = np.matrix.round(np.asmatrix(Q)*R,2)\n",
    "print(tmp-X)"
   ]
  },
  {
   "cell_type": "markdown",
   "metadata": {},
   "source": [
    "### <font color='orange'> --------------------------------- Example PCB 14, end"
   ]
  },
  {
   "cell_type": "markdown",
   "metadata": {},
   "source": [
    "### <font color='magenta'> --------------------------------- Example PCB 4, start"
   ]
  },
  {
   "cell_type": "markdown",
   "metadata": {},
   "source": [
    "## Example PCB 4, \n",
    "pg. 14 Bates and Watts \n",
    "\n",
    "You have decomposed $\\pmb{X}$ into matrices $\\pmb{Q}$ and $\\pmb{R}$... \n",
    "\n",
    "\\begin{equation*}\n",
    "\\pmb{X} = \n",
    "\\begin{bmatrix}\n",
    "1 & 1.26 \\\\\n",
    "1 & 1.82 \\\\\n",
    "1 & 2.22\n",
    "\\end{bmatrix}\n",
    "\\end{equation*}\n",
    "\n",
    "\\begin{equation*}\n",
    "\\pmb{X} = \\pmb{QR} =  \n",
    "\\begin{bmatrix}\n",
    "0.5774 & -0.743 & 0.3386 \\\\\n",
    "0.5774 & 0.0782 & -0.8127 \\\\\n",
    "0.5774 & 0.6647 & 0.4741\n",
    "\\end{bmatrix}\n",
    "\\begin{bmatrix}\n",
    "1.7321 & 3.06 \\\\\n",
    "0 & 0.682 \\\\\n",
    "0 & 0\n",
    "\\end{bmatrix}\n",
    "\\end{equation*}\n",
    "\n",
    "...now solve for least squares estimates $\\pmb{\\hat{\\beta}}$\n",
    "\n",
    "### <font color = 'blue'> solution: </font>\n",
    "\n",
    "solve for the projection of $\\pmb{w}$ onto the expectation plane/surface $\\pmb{Q}$\n",
    "\n",
    "\\begin{equation*}\n",
    "\\pmb{X}\\pmb{\\hat{\\beta}} = \\pmb{Q}\\pmb{w} \n",
    "\\end{equation*}\n",
    "\n",
    "where, $\\pmb{w} = \\pmb{Q}^T\\pmb{y}$\n",
    "\n",
    "\n",
    "\\begin{eqnarray*}\n",
    "\\pmb{w} &=& \\pmb{Q}^T\\pmb{y} \\\\\n",
    "&=& \n",
    "\\begin{bmatrix}\n",
    "0.5774 & 0.5774 & 0.5774 \\\\\n",
    "-0.743 & 0.0782 & 0.6647 \\\\\n",
    "0.3386 &-0.8127 & 0.4741\n",
    "\\end{bmatrix}\n",
    "\\begin{bmatrix}\n",
    "0.92 \\\\\n",
    "2.15 \\\\\n",
    "2.52\n",
    "\\end{bmatrix}\n",
    "\\\\\n",
    "&=&\n",
    "\\begin{bmatrix}\n",
    "3.23 \\\\ \n",
    "1.16 \\\\\n",
    "-0.24\n",
    "\\end{bmatrix}\n",
    "\\end{eqnarray*}"
   ]
  },
  {
   "cell_type": "code",
   "execution_count": 13,
   "metadata": {},
   "outputs": [
    {
     "name": "stdout",
     "output_type": "stream",
     "text": [
      "[[ 3.2252]\n",
      " [ 1.161 ]\n",
      " [-0.2448]]\n"
     ]
    }
   ],
   "source": [
    "y = np.mat([math.log(2.5),\n",
    "            math.log(8.6),\n",
    "            math.log(12.4)]).reshape([3,1])\n",
    "w = np.matrix.round(Q.T * y,4)\n",
    "print(w)"
   ]
  },
  {
   "cell_type": "markdown",
   "metadata": {},
   "source": [
    "### <font color='magenta'> --------------------------------- Example PCB 4, end"
   ]
  },
  {
   "cell_type": "markdown",
   "metadata": {},
   "source": [
    "### <font color='green'> --------------------------------- Example PCB 5, start\n",
    "    \n",
    "## Example PCB 5\n",
    "\n",
    "Examples PCB 4 and PCB 14 use ONLY 3 datapts. \n",
    "\n",
    "Now <font color ='red'> REPEAT </font> using ALL datapts \n",
    "to solve for least squares estimates $\\pmb{\\hat{\\beta}}$ using\n",
    "QR decomposition and the Householder Reflection method\n",
    "\n",
    "\\begin{equation*}\n",
    "\\pmb{X} =\n",
    "\\begin{bmatrix}\n",
    "1 & \\text{age}_1^{1/3} \\\\\n",
    "1 & \\text{age}_2^{1/3} \\\\\n",
    "... & ...\\\\\n",
    "1 & \\text{age}_N^{1/3} \\\\\n",
    "\\end{bmatrix}\n",
    "\\end{equation*}"
   ]
  },
  {
   "cell_type": "code",
   "execution_count": 14,
   "metadata": {},
   "outputs": [
    {
     "name": "stdout",
     "output_type": "stream",
     "text": [
      "age^{1/3} \t ln([PCB])\n",
      "1.0 \t\t [-0.51]\n",
      "1.0 \t\t [0.47]\n",
      "1.0 \t\t [-0.69]\n",
      "1.0 \t\t [0.18]\n",
      "1.26 \t\t [0.69]\n",
      "1.26 \t\t [0.26]\n",
      "1.26 \t\t [0.92]\n",
      "1.44 \t\t [0.79]\n",
      "1.44 \t\t [0.88]\n",
      "1.44 \t\t [0.18]\n",
      "1.59 \t\t [1.25]\n",
      "1.59 \t\t [1.41]\n",
      "1.59 \t\t [1.63]\n",
      "1.71 \t\t [1.74]\n",
      "1.82 \t\t [1.22]\n",
      "1.82 \t\t [2.27]\n",
      "1.82 \t\t [2.15]\n",
      "1.91 \t\t [1.39]\n",
      "1.91 \t\t [1.7]\n",
      "1.91 \t\t [2.35]\n",
      "2.0 \t\t [2.86]\n",
      "2.0 \t\t [2.6]\n",
      "2.0 \t\t [1.5]\n",
      "2.08 \t\t [3.41]\n",
      "2.22 \t\t [2.52]\n",
      "2.29 \t\t [2.6]\n",
      "2.29 \t\t [3.27]\n",
      "2.29 \t\t [2.]\n"
     ]
    }
   ],
   "source": [
    "X = np.ones([len(age),2])\n",
    "y = np.zeros([len(age),1])\n",
    "\n",
    "for ii in range(0,len(age)):\n",
    "    X[ii][1] = math.pow(age[ii],1/3.0)\n",
    "    y[ii] = math.log(PCB[ii])\n",
    "\n",
    "# print(np.round(X,2))\n",
    "\n",
    "print('age^{1/3} \\t ln([PCB])')\n",
    "for ii in range(0,len(age)):\n",
    "    print(np.round(X[ii][1],2),'\\t\\t', np.round(y[ii],2))"
   ]
  },
  {
   "cell_type": "markdown",
   "metadata": {},
   "source": [
    "### 1st Householder reflection, $\\pmb{H_1}$ ...\n",
    "\n",
    "\\begin{equation*}\n",
    "\\pmb{H_1} = \\pmb{I} - 2\\pmb{u_1 u_1^T}\n",
    "\\end{equation*}\n",
    "\n",
    "where, \n",
    "\n",
    "\\begin{equation*}\n",
    "\\pmb{u_1} = \\frac{\\pmb{x_1} - \\| \\pmb{x_1} \\| \\pmb{e_1}}{\\| \\left( \\pmb{x_1} - \\| \\pmb{x_1} \\| \\pmb{e_1} \\right) \\|}\n",
    "\\end{equation*}\n",
    "\n",
    "$\\pmb{x_1} = [1,1,...,1]^T \\equiv$ 1st column in matrix $\\pmb{X}$\n",
    "\n",
    "$\\pmb{e_1} = [1,0,0, ....,0]^T$ (basis vector for 1st dimension in Euclidean space)"
   ]
  },
  {
   "cell_type": "markdown",
   "metadata": {},
   "source": [
    "\\begin{eqnarray*}\n",
    "\\pmb{H_1} &=& \\pmb{I} - 2\\pmb{u_1 u_1^T} \\\\\n",
    "&[=]& [N \\times N] - 2 [N \\times 1] [1 \\times N] \\\\\n",
    "\\pmb{H_1} &[=]& [N \\times N]\n",
    "\\end{eqnarray*}"
   ]
  },
  {
   "cell_type": "code",
   "execution_count": 15,
   "metadata": {},
   "outputs": [
    {
     "name": "stdout",
     "output_type": "stream",
     "text": [
      "H [=] (28, 28)\n"
     ]
    }
   ],
   "source": [
    "x1 = np.asmatrix(X[:,0]).reshape(len(age),1) # first column in matrix X\n",
    "e1 = np.zeros([len(x1),1])\n",
    "e1[0] = 1\n",
    "e1 = e1 * np.linalg.norm(x1)\n",
    "u1 = (x1-e1)/np.linalg.norm(x1-e1)\n",
    "\n",
    "H1 = np.identity(len(age)) - 2*u1 * u1.T\n",
    "\n",
    "print('H [=]', H1.shape)"
   ]
  },
  {
   "cell_type": "code",
   "execution_count": 16,
   "metadata": {},
   "outputs": [
    {
     "name": "stdout",
     "output_type": "stream",
     "text": [
      "[[ 5.2915  8.8711]\n",
      " [ 0.     -0.8341]\n",
      " [ 0.     -0.8341]\n",
      " [-0.     -0.8341]\n",
      " [-0.     -0.5742]\n",
      " [-0.     -0.5742]\n",
      " [-0.     -0.5742]\n",
      " [-0.     -0.3919]\n",
      " [-0.     -0.3919]\n",
      " [-0.     -0.3919]\n",
      " [ 0.     -0.2467]\n",
      " [-0.     -0.2467]\n",
      " [ 0.     -0.2467]\n",
      " [-0.     -0.1241]\n",
      " [ 0.     -0.017 ]\n",
      " [-0.     -0.017 ]\n",
      " [-0.     -0.017 ]\n",
      " [ 0.      0.0788]\n",
      " [ 0.      0.0788]\n",
      " [ 0.      0.0788]\n",
      " [ 0.      0.1659]\n",
      " [ 0.      0.1659]\n",
      " [ 0.      0.1659]\n",
      " [-0.      0.246 ]\n",
      " [-0.      0.3899]\n",
      " [-0.      0.4553]\n",
      " [-0.      0.4553]\n",
      " [-0.      0.4553]]\n"
     ]
    }
   ],
   "source": [
    "X1 = np.asmatrix(np.matrix.round(H1*X,4))\n",
    "print(X1)"
   ]
  },
  {
   "cell_type": "markdown",
   "metadata": {},
   "source": [
    "### Peform a 2nd rotation using the 2nd Householder reflection, $\\pmb{H_2}$ ...\n",
    "\n",
    "\\begin{equation*}\n",
    "\\pmb{H_2} = \\pmb{I} - 2\\pmb{u_2 u_2^T}\n",
    "\\end{equation*}\n",
    "\n",
    "where, \n",
    "\n",
    "\\begin{equation*}\n",
    "\\pmb{u_2} = \\frac{\\pmb{x_2} - \\| \\pmb{x_2} \\| \\pmb{e_2}}{\\| \\left( \\pmb{x_2} - \\| \\pmb{x_2} \\| \\pmb{e_1} \\right) \\|}\n",
    "\\end{equation*}\n",
    "\n",
    "$\\pmb{x_2} = [0,-0.8341,...,0.4553]^T \\equiv$ 2nd column in matrix $\\pmb{X_1}$ but first element is replaced with 0\n",
    "\n",
    "$\\pmb{e_2} = [0,1,0, ....,0]^T$ (basis vector for 2nd dimension in Euclidean space)"
   ]
  },
  {
   "cell_type": "code",
   "execution_count": 17,
   "metadata": {},
   "outputs": [
    {
     "name": "stdout",
     "output_type": "stream",
     "text": [
      "(28, 28)\n"
     ]
    }
   ],
   "source": [
    "x2 = np.copy(X1[:,1]).reshape(len(age),1)\n",
    "x2[0] = 0\n",
    "\n",
    "e2 = np.zeros([len(x1),1])\n",
    "e2[1] = 1\n",
    "e2 = e2 * np.linalg.norm(x2)\n",
    "\n",
    "u2 = (x2-e2)/np.linalg.norm(x2-e2)\n",
    "\n",
    "H2 = np.identity(len(age)) - (2*(u2*u2.T))\n",
    "print(H2.shape)"
   ]
  },
  {
   "cell_type": "markdown",
   "metadata": {},
   "source": [
    "### ... the 2nd rotation $\\pmb{X_2}$ is the matrix $\\pmb{R}$\n",
    "\n",
    "\\begin{eqnarray*}\n",
    "\\pmb{X_2} &=& \\pmb{H_2 X_1} \\\\\n",
    "\\pmb{R} \\equiv \\pmb{X_2} &=& \\pmb{H_2} \\pmb{H_1} \\pmb{X}\n",
    "\\end{eqnarray*}\n",
    "\n",
    "(in other words, matrix $\\pmb{R} \\equiv$ product of all Householder reflections and $\\pmb{X}$)"
   ]
  },
  {
   "cell_type": "code",
   "execution_count": 20,
   "metadata": {},
   "outputs": [],
   "source": [
    "R = np.matrix.round(H2 * X1,4)"
   ]
  },
  {
   "cell_type": "markdown",
   "metadata": {},
   "source": [
    "### ...matrix $\\pmb{Q}$ is product of all Householder reflections...\n",
    "\n",
    "\\begin{eqnarray*}\n",
    "\\pmb{Q^T} &=& \\pmb{H_2 H_1}\\\\\n",
    "&-or-& \\\\\n",
    "\\pmb{Q} &=& \\pmb{H_1 H_2}\n",
    "\\end{eqnarray*}"
   ]
  },
  {
   "cell_type": "code",
   "execution_count": 21,
   "metadata": {},
   "outputs": [
    {
     "name": "stdout",
     "output_type": "stream",
     "text": [
      "(28, 28)\n"
     ]
    }
   ],
   "source": [
    "Q = np.matrix.round(H1 * H2,4) # same as Q = np.matrix.round(H2.T * H.T,4)\n",
    "print(Q.shape)"
   ]
  },
  {
   "cell_type": "markdown",
   "metadata": {},
   "source": [
    "### <font color ='red'> Check: </font>\n",
    "\n",
    "\\begin{equation*}\n",
    "\\pmb{X} = \\pmb{QR}\n",
    "\\end{equation*}"
   ]
  },
  {
   "cell_type": "code",
   "execution_count": 22,
   "metadata": {},
   "outputs": [
    {
     "name": "stdout",
     "output_type": "stream",
     "text": [
      "[[ 0.00000000e+00  0.00000000e+00]\n",
      " [ 0.00000000e+00  0.00000000e+00]\n",
      " [ 0.00000000e+00  0.00000000e+00]\n",
      " [ 0.00000000e+00  0.00000000e+00]\n",
      " [ 0.00000000e+00  7.89501051e-05]\n",
      " [ 0.00000000e+00  7.89501051e-05]\n",
      " [ 0.00000000e+00  7.89501051e-05]\n",
      " [ 0.00000000e+00 -2.24957031e-03]\n",
      " [ 0.00000000e+00 -2.24957031e-03]\n",
      " [ 0.00000000e+00 -2.24957031e-03]\n",
      " [ 0.00000000e+00  2.59894803e-03]\n",
      " [ 0.00000000e+00  2.59894803e-03]\n",
      " [ 0.00000000e+00  2.59894803e-03]\n",
      " [ 0.00000000e+00  2.40533233e-05]\n",
      " [ 0.00000000e+00  2.87940717e-03]\n",
      " [ 0.00000000e+00  2.87940717e-03]\n",
      " [ 0.00000000e+00  2.87940717e-03]\n",
      " [ 0.00000000e+00 -2.93118277e-03]\n",
      " [ 0.00000000e+00 -2.93118277e-03]\n",
      " [ 0.00000000e+00 -2.93118277e-03]\n",
      " [ 0.00000000e+00  0.00000000e+00]\n",
      " [ 0.00000000e+00  0.00000000e+00]\n",
      " [ 0.00000000e+00  0.00000000e+00]\n",
      " [ 0.00000000e+00 -8.38230519e-05]\n",
      " [ 0.00000000e+00 -3.98009057e-03]\n",
      " [ 0.00000000e+00  5.71514893e-04]\n",
      " [ 0.00000000e+00  5.71514893e-04]\n",
      " [ 0.00000000e+00  5.71514893e-04]]\n"
     ]
    }
   ],
   "source": [
    "tmp = np.matrix.round(np.asmatrix(Q)*R,2)\n",
    "print(tmp-X)"
   ]
  },
  {
   "cell_type": "markdown",
   "metadata": {},
   "source": [
    "## ....solve for $\\pmb{w_1}$ and $\\pmb{\\hat{\\beta}}$\n",
    "\n",
    "\\begin{equation*}\n",
    "\\pmb{w_1} = \\pmb{Q_1^T} \\pmb{y}\n",
    "\\end{equation*}\n",
    "\n"
   ]
  },
  {
   "cell_type": "code",
   "execution_count": 24,
   "metadata": {},
   "outputs": [
    {
     "name": "stdout",
     "output_type": "stream",
     "text": [
      "(2, 2)\n",
      "(28, 2)\n",
      "(28, 1)\n"
     ]
    }
   ],
   "source": [
    "beta = [-2.391,2.300]\n",
    "\n",
    "N = len(R)\n",
    "P = len(beta)\n",
    "\n",
    "# R1 = np.triu(R) # \n",
    "R1 = np.copy(R[0:P,0:P]) # [P x P] upper triangular matrix of matrix R. (Ref: pg13 of Bates and Wates \"Nonlinear Regression and Its Apps\")\n",
    "Q1 = np.copy(Q[:,0:P]) # Q1 is the first P columns of matrix Q. (Ref: pg13 of Bates and Wates \"Nonlinear Regression and Its Apps\") \n",
    "\n",
    "# y = lnPCB\n",
    "print(R1.shape)\n",
    "print(Q1.shape)\n",
    "print(y.shape)\n",
    "# print(lnPCB.shape)\n",
    "\n",
    "# print(np.round(lnPCB,2))\n",
    "# w1 = np.asmatrix(Q1.T * y)\n",
    "\n",
    "# Q2 = np.copy(Q[:,2]).reshape(3,1)\n",
    "# w2 = np.asmatrix(Q2.T * y)\n",
    "\n",
    "# print('w1=', w1)\n",
    "\n",
    "# print('w2=', w2)"
   ]
  },
  {
   "cell_type": "code",
   "execution_count": 25,
   "metadata": {},
   "outputs": [
    {
     "name": "stdout",
     "output_type": "stream",
     "text": [
      "(2, 1)\n",
      "[[7.75771409]\n",
      " [4.97250081]]\n"
     ]
    }
   ],
   "source": [
    "w1 = np.asmatrix(Q1.T) * y\n",
    "print(w1.shape)\n",
    "print(w1)"
   ]
  },
  {
   "cell_type": "markdown",
   "metadata": {},
   "source": [
    "### ...solve for $\\beta$\n",
    "\n",
    "\\begin{equation*}\n",
    "\\pmb{R_1}\\pmb{\\hat{\\beta}} = \\pmb{w_1}\n",
    "\\end{equation*}\n",
    "\n",
    "\\begin{equation*}\n",
    "\\begin{bmatrix}\n",
    "r_{11} & r_{12} \\\\\n",
    "r_{21} & r_{22} \n",
    "\\end{bmatrix}\n",
    "\\begin{bmatrix}\n",
    "\\hat{\\beta_1} \\\\\n",
    "\\hat{\\beta_2} \n",
    "\\end{bmatrix}\n",
    "=\n",
    "\\begin{bmatrix}\n",
    "w_1 \\\\\n",
    "w_2\n",
    "\\end{bmatrix}\n",
    "\\end{equation*}\n",
    "\n",
    "Use back-substiution.  There are various methods \n",
    "(e.g., LU decomposition, Guass-elimination, etc.). \n",
    "You chose to use Cramer's Rule\n",
    "\n",
    "\\begin{equation*}\n",
    "\\hat{\\beta_1} =\n",
    "\\frac{\n",
    "\\begin{vmatrix}\n",
    "w_1 & r_{12} \\\\\n",
    "w_2 & r_{22} \n",
    "\\end{vmatrix}\n",
    "}{\n",
    "\\begin{vmatrix}\n",
    "r_{11} & r_{12} \\\\\n",
    "r_{21} & r_{22} \n",
    "\\end{vmatrix}\n",
    "}\n",
    "\\end{equation*}\n",
    "\n",
    "and \n",
    "\n",
    "\\begin{equation*}\n",
    "\\hat{\\beta_2} =\n",
    "\\frac{\n",
    "\\begin{vmatrix}\n",
    "r_{11} & w_1 \\\\\n",
    "r_{21} & w_2 \n",
    "\\end{vmatrix}\n",
    "}{\n",
    "\\begin{vmatrix}\n",
    "r_{11} & r_{12} \\\\\n",
    "r_{21} & r_{22} \n",
    "\\end{vmatrix}\n",
    "}\n",
    "\\end{equation*}"
   ]
  },
  {
   "cell_type": "code",
   "execution_count": 26,
   "metadata": {
    "scrolled": true
   },
   "outputs": [
    {
     "name": "stdout",
     "output_type": "stream",
     "text": [
      "[[-2.391]\n",
      " [ 2.301]]\n"
     ]
    }
   ],
   "source": [
    "beta = np.zeros([2,1])\n",
    "\n",
    "tmp1 = np.copy(R1)\n",
    "tmp1[0][0] = w1[0]\n",
    "tmp1[1][0] = w1[1]\n",
    "\n",
    "beta[0] = np.linalg.det(tmp1)/np.linalg.det(R1)\n",
    "\n",
    "# ---------------\n",
    "tmp2 = np.copy(R1)\n",
    "tmp2[0][1] = w1[0]\n",
    "tmp2[1][1] = w1[1]\n",
    "\n",
    "beta[1] = np.linalg.det(tmp2)/np.linalg.det(R1)\n",
    "\n",
    "print(np.round(beta,3))"
   ]
  },
  {
   "cell_type": "markdown",
   "metadata": {},
   "source": [
    "# ------------- Explanation "
   ]
  },
  {
   "cell_type": "markdown",
   "metadata": {},
   "source": [
    "\\begin{equation*}\n",
    "\\pmb{\\hat{y}} = \\pmb{X} \\pmb{\\hat{\\beta}}\n",
    "\\end{equation*}\n",
    "\n",
    "where, $\\pmb{\\hat{y}} \\equiv$ best-fit esimates for actual response $\\pmb{y}$\n",
    "\n",
    "<font color = 'red'> NOTE: Bates and Wates use $\\hat{\\eta}$ instead of $\\pmb{\\hat{y}}$ </font>\n",
    "\n",
    "\\begin{eqnarray*}\n",
    "\\text{residual error} &=& \\pmb{y} - \\pmb{\\hat{y}} \n",
    "\\end{eqnarray*}\n",
    "\n",
    "Now, recall QR decomposition breaks-up/decomposes $\\pmb{X}$. I.e., $\\pmb{X} = \\pmb{Q}\\pmb{R}$\n",
    "\n",
    "So $\\pmb{\\hat{y}} = \\pmb{X} \\pmb{\\hat{\\beta}}$ becomes,\n",
    "\n",
    "\\begin{equation*}\n",
    "\\boxed{\n",
    "\\pmb{\\hat{y}} = \\pmb{Q}\\pmb{R} \\pmb{\\hat{\\beta}}\n",
    "}\n",
    "\\end{equation*}\n",
    "\n",
    "### ---------------------------------------------\n",
    "### Now on a separate note.... \n",
    "\n",
    "Recall, $\\pmb{X} = \\pmb{Q}\\pmb{R}$\n",
    "\n",
    "where the columns of $\\pmb{Q}$ define an orthonormal basis for the response space \n",
    "\n",
    "Perfom the following transformation on responses $\\pmb{y}$ using $\\pmb{Q}$ to get projection $\\pmb{w}$:\n",
    "\n",
    "\\begin{equation*}\n",
    "\\pmb{w} = \\pmb{Q}^T \\pmb{y}\n",
    "\\end{equation*}\n",
    "\n",
    "---------------------\n",
    "\n",
    "### <font color = 'red'> Sidenote/Clarification: </font> \n",
    "\n",
    "$\\pmb{w}$ is geometrically defined as the projection of response $\\pmb{y}$ onto vector space $\\pmb{Q}$.  \n",
    "\n",
    "For refresher on projections, search online for discussion on projections of vectors in 2- or 3-dimensions (you can actually draw/graph these) or see your own handwritten notes\n",
    "\n",
    "---------------------\n",
    "\n",
    "### Dimensional analysis...\n",
    "\n",
    "Recall,\n",
    "\n",
    "\\begin{equation*}\n",
    "\\begin{bmatrix}\n",
    "\\ln[\\text{PCB}_1] \\\\\n",
    "\\ln[\\text{PCB}_2] \\\\\n",
    "\\ln[\\text{PCB}_3]  \\\\\n",
    "...\\\\\n",
    "\\ln[\\text{PCB}_{N}]\n",
    "\\end{bmatrix}\n",
    "=\n",
    "\\begin{bmatrix}\n",
    "1 & \\text{age}_1^{1/3}\\\\\n",
    "1 & \\text{age}_2^{1/3}\\\\\n",
    "1 & \\text{age}_3^{1/3} \\\\\n",
    "... \\\\\n",
    "1 & \\text{age}_N^{1/3}\n",
    "\\end{bmatrix}\n",
    "\\begin{bmatrix}\n",
    "\\beta_1 \\\\\n",
    "\\beta_P\n",
    "\\end{bmatrix}\n",
    "\\end{equation*}\n",
    "\n",
    "\\begin{equation*}\n",
    "\\pmb{y} = \\pmb{X}\\pmb{\\beta}\n",
    "\\end{equation*}\n",
    "\n",
    "$N = $ # of datapts\n",
    "\n",
    "$P = $ # of unknown paramters $\\pmb{\\beta}$\n",
    "\n",
    "Dimensions:\n",
    "\n",
    "\\begin{eqnarray*}\n",
    "\\pmb{X} &=& \\pmb{Q} \\pmb{R} \\\\\n",
    "[N \\times P] &=& [N \\times N] [N \\times P]\n",
    "\\end{eqnarray*}\n",
    "\n",
    "\n",
    "### split $\\pmb{Q}$...\n",
    "\n",
    "\\begin{equation*}\n",
    "\\pmb{Q} = \n",
    "\\begin{bmatrix}\n",
    "\\pmb{Q_1} & \\pmb{Q_2}\n",
    "\\end{bmatrix}\n",
    "\\end{equation*}\n",
    "\n",
    "where, \n",
    "\n",
    "$\\pmb{Q_1} =$ first $P$ columns in $\\pmb{Q}$  \n",
    "\n",
    "and \n",
    "\n",
    "$\\pmb{Q_2} =$ remaining $N-P$ columns in $\\pmb{Q}$\n",
    "\n",
    "### also split $\\pmb{R}$ \n",
    "\n",
    "\\begin{equation*}\n",
    "\\pmb{R} = \n",
    "\\begin{bmatrix}\n",
    "\\pmb{R_1} \\\\ \n",
    "0\n",
    "\\end{bmatrix}\n",
    "\\end{equation*}\n",
    "\n",
    "where $\\pmb{R_1}= [P \\times P]$ upper triangular matrix in $\\pmb{R}$\n",
    "\n",
    "\n",
    "### So, \n",
    "\n",
    "$\\pmb{X} = \\pmb{Q} \\pmb{R} = \\pmb{Q_1} \\pmb{R_1}$\n",
    "\n",
    "<font color = 'orange'> Check: </font>\n",
    "\n",
    "\\begin{eqnarray*}\n",
    "\\pmb{X} &=& \\pmb{Q_1} \\pmb{R_1} \\\\\n",
    "&=& [N \\times P] [P \\times P] \\\\\n",
    "&=& [N \\times P]\n",
    "\\end{eqnarray*}\n",
    "\n",
    "<font color = 'orange'> checks out! </font>\n",
    "\n",
    "### Since you split $\\pmb{Q}$ and $\\pmb{R}$ you can also split $\\pmb{w}$ ...\n",
    "\n",
    "\n",
    "\\begin{equation*}\n",
    "\\pmb{w} = \n",
    "\\begin{bmatrix}\n",
    "\\pmb{w_1} & \\pmb{w_2}\n",
    "\\end{bmatrix}\n",
    "\\end{equation*}\n",
    "\n",
    "\n",
    "## <font color ='magenta'> Remember: </font> \n",
    "\n",
    "$\\pmb{w}$ and it's columns/compnents $\\pmb{w_1}$ and $\\pmb{w_2}$ \n",
    "are projections of the measured/actual responses $\\pmb{y}$ \n",
    "onto the expectation plane/surface/vector-space $\\pmb{Q}$ is:\n",
    "\n",
    "\n",
    "\\begin{equation*}\n",
    "\\begin{bmatrix}\n",
    "\\pmb{w_1} \\\\ 0\n",
    "\\end{bmatrix}\n",
    "\\end{equation*}\n",
    "\n",
    "...This is the response in Q-coordinates/space.  \n",
    "\n",
    "The projection of $\\pmb{w}$ onto the original/same space as $\\pmb{y}$ and in the original coordinates is:\n",
    "\n",
    "\\begin{equation*}\n",
    "\\pmb{\\hat{y}} = \\pmb{Q} \n",
    "\\begin{bmatrix}\n",
    "\\pmb{w_1} \\\\ 0\n",
    "\\end{bmatrix}\n",
    "= \\pmb{Q_1} \\pmb{w_1}\n",
    "\\end{equation*}\n",
    "\n",
    "\\begin{equation*}\n",
    "\\boxed{\n",
    "\\pmb{\\hat{y}} = \\pmb{Q_1} \\pmb{w_1}\n",
    "}\n",
    "\\end{equation*}\n",
    "\n",
    "# ---------------------------------------------\n",
    "\n",
    "# Now put it all together...\n",
    "\n",
    "\\begin{equation*}\n",
    "\\pmb{\\hat{y}} = \\pmb{Q_1} \\pmb{w_1}\n",
    "\\end{equation*}\n",
    "\n",
    "But also, the general def:\n",
    "\n",
    "\\begin{equation*}\n",
    "\\pmb{\\hat{y}} = \\pmb{X} \\pmb{\\hat{\\beta}}\n",
    "\\end{equation*}\n",
    "\n",
    "\n",
    "where, $\\pmb{X} = \\pmb{Q} \\pmb{R} = \\pmb{Q_1} \\pmb{R_1}$\n",
    "\n",
    "so,\n",
    "\n",
    "\\begin{equation*}\n",
    "\\pmb{\\hat{y}} = \\pmb{Q_1} \\pmb{R_1} \\pmb{\\hat{\\beta}}\n",
    "\\end{equation*}\n",
    "\n",
    "Hence...\n",
    "\n",
    "\\begin{equation*}\n",
    "\\pmb{\\hat{y}} = \\pmb{Q_1} \\pmb{w_1}\n",
    "\\end{equation*}\n",
    "\n",
    "...becomes\n",
    "\n",
    "\\begin{equation*}\n",
    "\\pmb{Q_1} \\pmb{R_1} \\pmb{\\hat{\\beta}} = \\pmb{Q_1} \\pmb{w_1}\n",
    "\\end{equation*}\n",
    "\n",
    "\n",
    "\\begin{equation*}\n",
    "\\boxed{\n",
    "\\pmb{R_1} \\pmb{\\hat{\\beta}} = \\pmb{w_1}\n",
    "}\n",
    "\\end{equation*}\n",
    "\n",
    "<font color = 'blue'> check dimensions </font> \n",
    "\n",
    "$\\pmb{\\hat{\\beta}} = [\\hat{\\beta_1}, \\hat{\\beta_2}]^T$\n",
    "\n",
    "so, $\\pmb{\\hat{\\beta}} \\equiv [P \\times 1]$\n",
    "\n",
    "\n",
    "\\begin{eqnarray*}\n",
    "\\pmb{R_1} \\pmb{\\hat{\\beta}} &=& \\pmb{w_1} \\\\\n",
    "[P \\times P] [P \\times 1] &=& [P \\times 1]\n",
    "\\end{eqnarray*}\n",
    "\n",
    "<font color = 'blue'> check out! </font> "
   ]
  },
  {
   "cell_type": "markdown",
   "metadata": {},
   "source": [
    "### <font color='green'> --------------------------------- Example PCB 5, end"
   ]
  },
  {
   "cell_type": "markdown",
   "metadata": {},
   "source": [
    "## Accomplishments:\n",
    "\n",
    "better understanding of linear algebra geometry, especially the following terms:\n",
    "\n",
    "vector space, transformation, projections, orthogonalization, orthonormal basis, etc.\n",
    "\n",
    "## Next: \n",
    "\n",
    "study singular value decomposition.  See pg. 156 in Bates and Wates"
   ]
  },
  {
   "cell_type": "markdown",
   "metadata": {},
   "source": [
    "## Singular Value Decomposition\n",
    "\n",
    "ref: http://web.mit.edu/be.400/www/SVD/Singular_Value_Decomposition.htm\n"
   ]
  },
  {
   "cell_type": "code",
   "execution_count": 27,
   "metadata": {},
   "outputs": [
    {
     "name": "stdout",
     "output_type": "stream",
     "text": [
      "[[2 4]\n",
      " [1 3]\n",
      " [0 0]\n",
      " [0 0]]\n"
     ]
    }
   ],
   "source": [
    "A = np.mat([[2,4],[1,3],[0,0],[0,0]])\n",
    "print(A)"
   ]
  },
  {
   "cell_type": "code",
   "execution_count": 28,
   "metadata": {},
   "outputs": [
    {
     "name": "stdout",
     "output_type": "stream",
     "text": [
      "[[20 14  0  0]\n",
      " [14 10  0  0]\n",
      " [ 0  0  0  0]\n",
      " [ 0  0  0  0]]\n"
     ]
    }
   ],
   "source": [
    "print(A * A.T)"
   ]
  },
  {
   "cell_type": "markdown",
   "metadata": {},
   "source": [
    "$\\pmb{A}\\pmb{A}^T$ = square matrix\n",
    "\n",
    "Determine the eigenvalues of this square matrix\n",
    "\n",
    "let $\\pmb{W} = \\pmb{A}\\pmb{A}^T$\n",
    "\n",
    "\\begin{equation*}\n",
    "\\pmb{W} \\pmb{x} = \\lambda \\pmb{x}\n",
    "\\end{equation*}\n",
    "\n",
    "\\begin{equation*}\n",
    "(\\pmb{W} - \\lambda\\pmb{I}) \\pmb{x} = 0\n",
    "\\end{equation*}\n",
    "\n",
    "$\\lambda$ = scalar. Aka eigenvalue of $\\pmb{A}$\n",
    "\n",
    "$\\pmb{x}$ = eigenvector of $\\pmb{A}$\n",
    "\n",
    "\\begin{eqnarray*}\n",
    "(\\pmb{W} - \\lambda\\pmb{I}) \\pmb{x} &=& 0 \\\\\n",
    "\\begin{bmatrix}\n",
    "20 - \\lambda & 14 & 0 & 0 \\\\\n",
    "14 & 10 - \\lambda & 0 & 0 \\\\\n",
    "0 & 0 & - \\lambda & 0 \\\\\n",
    "0 & 0 & 0 & - \\lambda\n",
    "\\end{bmatrix}\n",
    "\\begin{bmatrix}\n",
    "x_1 \\\\\n",
    "x_2 \\\\\n",
    "x_3 \\\\\n",
    "x_4\n",
    "\\end{bmatrix}\n",
    " &=& 0\n",
    "\\end{eqnarray*}\n",
    "\n",
    "$(20 - \\lambda) x_1 + 14 x_2 = 0$\n",
    "\n",
    "$14 x_1 + (10 - \\lambda) x_2 = 0$\n",
    "\n",
    "$\\lambda x_3 = 0 \\rightarrow x_3 = 0$\n",
    "\n",
    "$\\lambda x_4 = 0 \\rightarrow x_4 = 0$\n",
    "\n",
    "2 unknowns: $x_1$, $x_2$, ($\\lambda$ isn't an eigenvalue and unknown constant).\n",
    "\n",
    "2 eqns: \n",
    "\n",
    "$20 x_1 + \\lambda x_2 = 0$\n",
    "\n",
    "$14 x_1 + 10 x_2 - \\lambda x_2 = 0$\n",
    "\n",
    "They appear to have arbitrarily chosen 4 values for $\\lambda$...\n",
    "\n",
    "\\begin{equation*}\n",
    "\\lambda = \n",
    "\\begin{bmatrix}\n",
    "0 & 0 & 15+ O(221.5 \\sim 29.883) & 15 - O(221.5 \\sim 0.117)\n",
    "\\end{bmatrix}\n",
    "\\end{equation*}"
   ]
  },
  {
   "cell_type": "markdown",
   "metadata": {},
   "source": [
    "## See video on SVD,\n",
    "\n",
    "Computing the Singular Value Decomposition | MIT 18.06SC Linear Algebra, Fall 2011\n",
    "\n",
    "ref: https://www.youtube.com/watch?v=cOUTpqlX-Xs"
   ]
  },
  {
   "cell_type": "markdown",
   "metadata": {},
   "source": [
    "## Accomplishments:\n",
    "\n",
    "* better understanding of linear algebra geometry, especially the following terms:\n",
    "\n",
    "* vector space, transformation, projections, orthogonalization, orthonormal basis, etc.\n",
    "\n",
    "* Understood how to use QR decomposition to calculate least squares estimates $\\pmb{\\beta}$\n",
    "\n",
    "* Understood singular value decomposition (SVD).  See handwritten notes\n",
    "\n",
    "## Next: \n",
    "\n",
    "* compute least squares estimates via singular value decomposition"
   ]
  },
  {
   "cell_type": "markdown",
   "metadata": {},
   "source": [
    "## Example of SVD\n",
    "\n",
    "ref: https://austingwalters.com/using-svd-to-obtain-regression-lines/\n",
    "\n",
    "Find least squares estimates for the following data using singular value decomposition (SVD).\n",
    "\n",
    "x = [ 0  1  2  3  4  5  6  7  8  9 10 11 12 13 14]\n",
    "\n",
    "y = [2.2, 2.2, 1, 3, 3, 4, 3, 6, 6, 7, 11, 12, 14, 10, 11]\n",
    "\n",
    "\n",
    "best-fit function:\n",
    "\n",
    "\\begin{eqnarray*}\n",
    "\\pmb{y} &=& \\pmb{X} \\pmb{\\beta} \\\\\n",
    "y &=& \\beta_0 + \\beta_1 x\n",
    "\\end{eqnarray*}\n",
    "\n",
    "\n",
    "\\begin{equation*}\n",
    "\\begin{bmatrix}\n",
    "2.2 \\\\ 1.0 \\\\ 3.0 \\\\ 3.0 \\\\ 4.0 \\\\ 3.0 \\\\ 6.0 \\\\ 6.0 \\\\ 7.0 \\\\ 11.0 \\\\ 12.0 \\\\ 14.0 \\\\ 10.0 \\\\ 11.0\n",
    "\\end{bmatrix}\n",
    "=\n",
    "\\begin{bmatrix}\n",
    "1 & 0 \\\\\n",
    "1 & 1 \\\\\n",
    "1 & 2 \\\\\n",
    "1 & 3 \\\\\n",
    "1 & 4 \\\\\n",
    "1 & 5 \\\\\n",
    "1 & 6 \\\\\n",
    "1 & 7 \\\\\n",
    "1 & 8 \\\\\n",
    "1 & 9 \\\\\n",
    "1 & 10 \\\\\n",
    "1 & 11 \\\\\n",
    "1 & 12 \\\\\n",
    "1 & 13 \\\\\n",
    "1 & 14\n",
    "\\end{bmatrix}\n",
    "\\begin{bmatrix}\n",
    "\\beta_0 \\\\\n",
    "\\beta_1\n",
    "\\end{bmatrix}\n",
    "\\end{equation*}\n",
    "\n",
    "## <font color = 'red'> Step 1: </font>  do SVD on matrix $\\pmb{X}$\n",
    "\n",
    "\\begin{equation*}\n",
    "\\boxed{\n",
    "\\pmb{X} = \\pmb{U} \\pmb{\\Sigma} \\pmb{V}^T\n",
    "}\n",
    "\\end{equation*}"
   ]
  },
  {
   "cell_type": "markdown",
   "metadata": {},
   "source": [
    "### ... solve for eigenvalues\n",
    "\n",
    "note: $\\sqrt{\\text{eigenvalues}}$ are the diagonals of the matrix $\\pmb{\\Sigma}$.\n",
    "Eigenvectors are columns of matrix $\\pmb{V}$\n",
    "\n",
    "\\begin{equation*}\n",
    "\\boxed{\n",
    "\\pmb{X}^T \\pmb{X} = \\pmb{V \\Sigma^T \\Sigma V^T}\n",
    "}\n",
    "\\end{equation*}\n",
    "\n",
    "\\begin{eqnarray*}\n",
    "\\pmb{X}^T \\pmb{X} &=&\n",
    "\\begin{bmatrix}\n",
    "1 & 1 & 1 & 1 & 1 & 1 & 1 & 1 & 1 & 1 & 1 & 1 & 1 & 1 & 1 \\\\\n",
    "0 & 1 & 2 & 3 & 4 & 5 & 6 & 7 & 8 & 9 & 10 & 11 & 12 & 13 & 14\n",
    "\\end{bmatrix}\n",
    "\\begin{bmatrix}\n",
    "1 & 0 \\\\\n",
    "1 & 1 \\\\\n",
    "1 & 2 \\\\\n",
    "1 & 3 \\\\\n",
    "1 & 4 \\\\\n",
    "1 & 5 \\\\\n",
    "1 & 6 \\\\\n",
    "1 & 7 \\\\\n",
    "1 & 8 \\\\\n",
    "1 & 9 \\\\\n",
    "1 & 10 \\\\\n",
    "1 & 11 \\\\\n",
    "1 & 12 \\\\\n",
    "1 & 13 \\\\\n",
    "1 & 14\n",
    "\\end{bmatrix}\n",
    "&=&\n",
    "\\begin{bmatrix}\n",
    "15 & 105 \\\\\n",
    "105 & 1015\n",
    "\\end{bmatrix}\n",
    "\\end{eqnarray*}\n",
    "\n",
    "\\begin{eqnarray*}\n",
    "\\det \\left( \\pmb{X}^T \\pmb{X} - \\lambda \\pmb{I} \\right) &=& \\pmb{0} \\\\\n",
    "\\begin{vmatrix}\n",
    "15 - \\lambda & 105 \\\\\n",
    "105 & 1015 - \\lambda\n",
    "\\end{vmatrix}\n",
    "&=& 0 \\\\\n",
    "(15 - \\lambda) (1015 - \\lambda) - 105^2 &=& 0 \\\\\n",
    "15225 - 1030 \\lambda + \\lambda^2 - 11025 &=& 0 \\\\\n",
    "4200 - 1030 \\lambda + \\lambda^2 &=& 0 \n",
    "\\end{eqnarray*}\n",
    "\n",
    "$\\lambda = [4.0939, 1025.9061]$"
   ]
  },
  {
   "cell_type": "markdown",
   "metadata": {},
   "source": [
    "---------------------------------\n",
    "\n",
    "## $\\sqrt{\\lambda}$ are the diagonal elements in $\\pmb{\\Sigma}$.  So...\n",
    "\n",
    "\\begin{eqnarray*}\n",
    "\\Sigma = \n",
    "\\begin{bmatrix}\n",
    "\\sqrt{\\lambda_1} & 0 \\\\\n",
    "0 & \\sqrt{\\lambda_2}\n",
    "\\end{bmatrix} \n",
    "=\n",
    "\\begin{bmatrix}\n",
    "2.0233 & 0 \\\\\n",
    "0 & 32.0298\n",
    "\\end{bmatrix} \n",
    "\\end{eqnarray*}\n",
    "\n",
    "---------------------------------"
   ]
  },
  {
   "cell_type": "markdown",
   "metadata": {},
   "source": [
    "\n",
    "### ... now solve for eigenvectors\n",
    "\n",
    "### For $\\lambda = 4.0939$,\n",
    "\n",
    "\\begin{eqnarray*}\n",
    "\\left[ \\pmb{X}^T \\pmb{X} - \\lambda \\pmb{I} \\right] \\pmb{v} &=& \\pmb{0} \\\\\n",
    "\\begin{bmatrix}\n",
    "15 - \\lambda & 105 \\\\\n",
    "105 & 1015 - \\lambda\n",
    "\\end{bmatrix}\n",
    "\\begin{bmatrix}\n",
    "v_1 \\\\\n",
    "v_2\n",
    "\\end{bmatrix}\n",
    "&=& 0 \\\\\n",
    "\\begin{bmatrix}\n",
    "15 - 4.0939 & 105 \\\\\n",
    "105 & 1015 - 4.0939\n",
    "\\end{bmatrix}\n",
    "\\begin{bmatrix}\n",
    "v_1 \\\\\n",
    "v_2\n",
    "\\end{bmatrix}\n",
    "&=& 0 \\\\\n",
    "\\begin{bmatrix}\n",
    "10.9061 & 105 \\\\\n",
    "105 & 1010.9061\n",
    "\\end{bmatrix}\n",
    "\\begin{bmatrix}\n",
    "v_1 \\\\\n",
    "v_2\n",
    "\\end{bmatrix}\n",
    "&=& 0 \n",
    "\\end{eqnarray*}\n",
    "\n",
    "$10.9061 v_1 + 105 v_2 = 0$\n",
    "\n",
    "and\n",
    "\n",
    "$105 v_1 + 1010.9061 v_2 = 0$ \n",
    "\n",
    "Notice the 2nd eqn is just a multiple of the 1st eqn. eqn2 = eqn1 $\\times (105/10.9061)$\n",
    "\n",
    "\n",
    "So just deal with eqn1:\n",
    "\n",
    "\\begin{eqnarray*}\n",
    "10.9061 v_1 + 105 v_2 &=& 0 \\\\\n",
    "v_1 &=& -\\frac{105}{10.9061} v_2\n",
    "\\end{eqnarray*}\n",
    "\n",
    "and so the eigenvector corresponding to $\\lambda = 4.0939$ is:\n",
    "\n",
    "\\begin{equation*}\n",
    "\\pmb{v} = \n",
    "\\begin{bmatrix}\n",
    "v_1 \\\\ v_2\n",
    "\\end{bmatrix}\n",
    "= \n",
    "\\begin{bmatrix}\n",
    "-\\frac{105}{10.9061} v_2 \\\\ v_2\n",
    "\\end{bmatrix}\n",
    "=\n",
    "v_2 \n",
    "\\begin{bmatrix}\n",
    "-\\frac{105}{10.9061} \\\\ 1\n",
    "\\end{bmatrix}\n",
    "\\end{equation*}\n",
    "\n",
    "\n",
    "$v_1$ is an arbitrary scalar/multiplier.  You're only interested in the vector portion.\n",
    "\n",
    "so let, $\\pmb{v} = [-\\frac{105}{10.9061}, 1]^T$ \n",
    "\n",
    "now normalize $\\pmb{v}$...\n",
    "\n",
    "$\\pmb{v}_{\\text{normalized}} = \\frac{\\pmb{v}}{\\| \\pmb{v} \\|}$  where $\\| \\pmb{v} \\| = \\sqrt{v_1^2 + v_2^2} = 9.6795$\n",
    "\n",
    "\\begin{equation*}\n",
    "\\pmb{v}_{\\text{normalized}} = \n",
    "\\begin{bmatrix}\n",
    "-0.9946 \\\\ 0.1033 \n",
    "\\end{bmatrix}\n",
    "\\end{equation*}"
   ]
  },
  {
   "cell_type": "markdown",
   "metadata": {},
   "source": [
    "### For $\\lambda = 1025.9061$\n",
    "\n",
    "\\begin{eqnarray*}\n",
    "\\left[ \\pmb{X}^T \\pmb{X} - \\lambda \\pmb{I} \\right] \\pmb{v} &=& \\pmb{0} \\\\\n",
    "\\begin{bmatrix}\n",
    "15 - \\lambda & 105 \\\\\n",
    "105 & 1015 - \\lambda\n",
    "\\end{bmatrix}\n",
    "\\begin{bmatrix}\n",
    "v_1 \\\\\n",
    "v_2\n",
    "\\end{bmatrix}\n",
    "&=& 0 \\\\\n",
    "\\begin{bmatrix}\n",
    "15 - 1025.9061 & 105 \\\\\n",
    "105 & 1015 - 1025.9061\n",
    "\\end{bmatrix}\n",
    "\\begin{bmatrix}\n",
    "v_1 \\\\\n",
    "v_2\n",
    "\\end{bmatrix}\n",
    "&=& 0 \\\\\n",
    "\\begin{bmatrix}\n",
    "-1010.9061 & 105 \\\\\n",
    "105 & -10.9061\n",
    "\\end{bmatrix}\n",
    "\\begin{bmatrix}\n",
    "v_1 \\\\\n",
    "v_2\n",
    "\\end{bmatrix}\n",
    "&=& 0 \n",
    "\\end{eqnarray*}\n",
    "\n",
    "1st eqn is a multiple of the 2nd so look at the 2nd eqn only...\n",
    "\n",
    "\\begin{eqnarray*}\n",
    "105 v_1 + (-10.9061 v_2) &=& 0 \\\\\n",
    "v_2 = \\frac{105}{10.9061}v_1\n",
    "\\end{eqnarray*}\n",
    "\n",
    "and so the eigenvector corresponding to $\\lambda = 1025.9061$ is:\n",
    "\n",
    "\\begin{equation*}\n",
    "\\pmb{v} = \n",
    "\\begin{bmatrix}\n",
    "v_1 \\\\ v_2\n",
    "\\end{bmatrix}\n",
    "= v_1 \n",
    "\\begin{bmatrix}\n",
    "1 \\\\ \\frac{105}{10.9061}\n",
    "\\end{bmatrix}\n",
    "\\end{equation*}\n",
    "\n",
    "Get rid of the scalar/multiplier $v_1$ and normalize $[1, \\frac{105}{10.9061}]^T$ to get...\n",
    "\n",
    "\\begin{equation*}\n",
    "\\pmb{v}_{\\text{normalized}}^\" = \n",
    "\\begin{bmatrix}\n",
    "0.1033  \\\\ 0.9946\n",
    "\\end{bmatrix}\n",
    "\\end{equation*}"
   ]
  },
  {
   "cell_type": "markdown",
   "metadata": {},
   "source": [
    "---------------------------------\n",
    "\n",
    "## The normalized eigenvectors are the columns of matrix $\\pmb{V}$. So...\n",
    "\n",
    "(a.k.a., the <font color = 'red'> right singular values </font> of matrix $\\pmb{X}$)\n",
    "\n",
    "\\begin{eqnarray*}\n",
    "\\pmb{V} = \n",
    "\\begin{bmatrix}\n",
    "\\pmb{v}_{\\text{normalized}} & \\pmb{v}_{\\text{normalized}}^\" \n",
    "\\end{bmatrix}\n",
    "=\n",
    "\\begin{bmatrix}\n",
    "-0.9946 & 0.1033 \\\\\n",
    "0.1033 & 0.9946\n",
    "\\end{bmatrix}\n",
    "\\end{eqnarray*}\n",
    "\n",
    "---------------------------------"
   ]
  },
  {
   "cell_type": "markdown",
   "metadata": {},
   "source": [
    "### Now solve for matrix $\\pmb{U}$...\n",
    "\n",
    "recall, \n",
    "\n",
    "\\begin{equation*}\n",
    "\\boxed{\n",
    "\\pmb{X} = \\pmb{U} \\pmb{\\Sigma} \\pmb{V}^T\n",
    "}\n",
    "\\end{equation*}\n",
    "\n",
    "To solve for matrix $\\pmb{U}$, use the following eqn:\n",
    "\n",
    "\\begin{equation*}\n",
    "\\boxed{\n",
    "\\pmb{X} \\pmb{V} = \\pmb{U} \\pmb{\\Sigma}\n",
    "}\n",
    "\\end{equation*}\n",
    "\n",
    "\n",
    "\\begin{eqnarray*}\n",
    "\\pmb{X} \\pmb{V} = \n",
    "\\begin{bmatrix}\n",
    "1 & 0 \\\\\n",
    "1 & 1 \\\\\n",
    "1 & 2 \\\\\n",
    "1 & 3 \\\\\n",
    "1 & 4 \\\\\n",
    "1 & 5 \\\\\n",
    "1 & 6 \\\\\n",
    "1 & 7 \\\\\n",
    "1 & 8 \\\\\n",
    "1 & 9 \\\\\n",
    "1 & 10 \\\\\n",
    "1 & 11 \\\\\n",
    "1 & 12 \\\\\n",
    "1 & 13 \\\\\n",
    "1 & 14\n",
    "\\end{bmatrix}\n",
    "\\begin{bmatrix}\n",
    "-0.9946 & 0.1033 \\\\\n",
    "0.1033 & 0.9946\n",
    "\\end{bmatrix}\n",
    "=\n",
    "\\begin{bmatrix}\n",
    "-0.9946 & 0.1033 \\\\\n",
    "-0.8913 & 1.098 \\\\\n",
    "-0.788 & 2.0926 \\\\\n",
    "-0.6847 & 3.0873 \\\\\n",
    "-0.5814 & 4.0819 \\\\\n",
    "-0.4781 & 5.0766 \\\\\n",
    "-0.3748 & 6.0712 \\\\\n",
    "-0.2715 & 7.0659 \\\\\n",
    "-0.1682 & 8.0605 \\\\\n",
    "-0.0648 & 9.0552 \\\\\n",
    "0.0385 & 10.0498 \\\\\n",
    "0.1418 & 11.0445 \\\\\n",
    "0.2451 & 12.0391 \\\\\n",
    "0.3484 & 13.0337 \\\\\n",
    "0.4517 & 14.0284 \n",
    "\\end{bmatrix}\n",
    "\\end{eqnarray*}\n",
    "\n",
    "Normalize each column of $\\pmb{XV}$ to get $\\pmb{U}$...\n",
    "\n",
    "\\begin{equation*}\n",
    "\\pmb{U} = \n",
    "\\begin{bmatrix}\n",
    "-0.4916 & 0.0032 \\\\\n",
    "-0.4405 & 0.0343 \\\\\n",
    "-0.3895 & 0.0653 \\\\\n",
    "-0.3384 & 0.0964 \\\\\n",
    "-0.2873 & 0.1274 \\\\\n",
    "-0.2363 & 0.1585 \\\\\n",
    "-0.1852 & 0.1895 \\\\\n",
    "-0.1342 & 0.2206 \\\\\n",
    "-0.0831 & 0.2517 \\\\\n",
    "-0.032 & 0.2827 \\\\\n",
    "0.019 & 0.3138 \\\\\n",
    "0.0701 & 0.3448 \\\\\n",
    "0.1211 & 0.3759 \\\\\n",
    "0.1722 & 0.4069 \\\\\n",
    "0.2232 & 0.438 \n",
    "\\end{bmatrix}\n",
    "\\end{equation*}"
   ]
  },
  {
   "cell_type": "code",
   "execution_count": 29,
   "metadata": {},
   "outputs": [
    {
     "name": "stdout",
     "output_type": "stream",
     "text": [
      "15 15\n",
      "[ 0  1  2  3  4  5  6  7  8  9 10 11 12 13 14]\n"
     ]
    }
   ],
   "source": [
    "x = np.arange(0,15)\n",
    "y = np.asarray([2.2, \n",
    "     2.2, \n",
    "     1, \n",
    "     3,\n",
    "     3,\n",
    "     4,\n",
    "     3,\n",
    "     6,\n",
    "     6,\n",
    "     7,\n",
    "     11,\n",
    "     12,\n",
    "     14,\n",
    "     10,\n",
    "     11])\n",
    "print(len(x), len(y))\n",
    "\n",
    "print(x)\n",
    "# for ii in range(0,len(y)):\n",
    "#     print(ii, y[ii])"
   ]
  },
  {
   "cell_type": "code",
   "execution_count": 30,
   "metadata": {
    "scrolled": true
   },
   "outputs": [
    {
     "name": "stdout",
     "output_type": "stream",
     "text": [
      "[[ 1.  0.]\n",
      " [ 1.  1.]\n",
      " [ 1.  2.]\n",
      " [ 1.  3.]\n",
      " [ 1.  4.]\n",
      " [ 1.  5.]\n",
      " [ 1.  6.]\n",
      " [ 1.  7.]\n",
      " [ 1.  8.]\n",
      " [ 1.  9.]\n",
      " [ 1. 10.]\n",
      " [ 1. 11.]\n",
      " [ 1. 12.]\n",
      " [ 1. 13.]\n",
      " [ 1. 14.]]\n"
     ]
    }
   ],
   "source": [
    "X = np.ones([len(x),2])\n",
    "X[:,1] = x\n",
    "print(X)"
   ]
  },
  {
   "cell_type": "code",
   "execution_count": 31,
   "metadata": {},
   "outputs": [
    {
     "data": {
      "text/plain": [
       "matrix([[  15.,  105.],\n",
       "        [ 105., 1015.]])"
      ]
     },
     "execution_count": 31,
     "metadata": {},
     "output_type": "execute_result"
    }
   ],
   "source": [
    "X.T * np.asmatrix(X)"
   ]
  },
  {
   "cell_type": "markdown",
   "metadata": {},
   "source": [
    "### --------------------scratch work to calculate eigenvalues"
   ]
  },
  {
   "cell_type": "markdown",
   "metadata": {},
   "source": [
    "\\begin{eqnarray*}\n",
    "\\det \\left( \\pmb{X}^T \\pmb{X} - \\lambda \\pmb{I} \\right) &=& 0 \\\\\n",
    "\\det \\left(\n",
    "\\begin{bmatrix}\n",
    "15 & 105 \\\\\n",
    "105 & 1015 \n",
    "\\end{bmatrix}\n",
    "-\\lambda \n",
    "\\begin{bmatrix}\n",
    "1 & 0 \\\\\n",
    "0 & 1\n",
    "\\end{bmatrix}\n",
    "\\right)\n",
    "&=&\n",
    "0 \\\\\n",
    "\\begin{vmatrix}\n",
    "15 - \\lambda & 105 \\\\\n",
    "105 & 1015 - \\lambda\n",
    "\\end{vmatrix}\n",
    "&=& 0 \\\\\n",
    "(15 - \\lambda)(1015 - \\lambda) - 105^2 &=& 0 \\\\\n",
    "15225 - 1030 \\lambda + \\lambda^2 - 11025 &=& 0 \\\\\n",
    "4200 - 1030 \\lambda + \\lambda^2 &=& 0 \n",
    "\\end{eqnarray*}\n",
    "\n",
    "$\\lambda = [4.0939, 1025.9061]$"
   ]
  },
  {
   "cell_type": "code",
   "execution_count": 32,
   "metadata": {},
   "outputs": [
    {
     "data": {
      "text/plain": [
       "15225"
      ]
     },
     "execution_count": 32,
     "metadata": {},
     "output_type": "execute_result"
    }
   ],
   "source": [
    "15 * 1015"
   ]
  },
  {
   "cell_type": "code",
   "execution_count": 33,
   "metadata": {
    "scrolled": true
   },
   "outputs": [
    {
     "data": {
      "text/plain": [
       "11025"
      ]
     },
     "execution_count": 33,
     "metadata": {},
     "output_type": "execute_result"
    }
   ],
   "source": [
    "105**2"
   ]
  },
  {
   "cell_type": "code",
   "execution_count": 34,
   "metadata": {},
   "outputs": [
    {
     "data": {
      "text/plain": [
       "4200"
      ]
     },
     "execution_count": 34,
     "metadata": {},
     "output_type": "execute_result"
    }
   ],
   "source": [
    "(15 * 1015) - (105**2)"
   ]
  },
  {
   "cell_type": "code",
   "execution_count": 35,
   "metadata": {
    "scrolled": false
   },
   "outputs": [
    {
     "data": {
      "text/latex": [
       "$\\displaystyle \\lambda = [4.0939,1025.9061]$"
      ],
      "text/plain": [
       "<IPython.core.display.Math object>"
      ]
     },
     "metadata": {},
     "output_type": "display_data"
    }
   ],
   "source": [
    "discriminant = (1030**2) - (4*4200)\n",
    "\n",
    "lambda2 = (1030+(discriminant**0.5))/2\n",
    "lambda1 = (1030-(discriminant**0.5))/2\n",
    "\n",
    "display(Math(\"\\lambda = [{},{}]\". format(round(lambda1,4),round(lambda2,4))))\n",
    "# print(round(lambda1,4),round(lambda2,4))"
   ]
  },
  {
   "cell_type": "code",
   "execution_count": 36,
   "metadata": {
    "scrolled": true
   },
   "outputs": [
    {
     "data": {
      "text/latex": [
       "$\\displaystyle \\sqrt \\lambda = [2.0233,32.0298]$"
      ],
      "text/plain": [
       "<IPython.core.display.Math object>"
      ]
     },
     "metadata": {},
     "output_type": "display_data"
    }
   ],
   "source": [
    "sigma1 = math.pow(lambda1,0.5)\n",
    "sigma2 = math.pow(lambda2,0.5)\n",
    "display(Math(\"\\sqrt \\lambda = [{},{}]\". format(round(sigma1,4),round(sigma2,4))))"
   ]
  },
  {
   "cell_type": "code",
   "execution_count": 37,
   "metadata": {},
   "outputs": [
    {
     "name": "stdout",
     "output_type": "stream",
     "text": [
      "[[ 2.02334923  0.        ]\n",
      " [ 0.         32.02976831]]\n"
     ]
    }
   ],
   "source": [
    "Sigma = np.zeros([2,2])\n",
    "Sigma[0,0] = sigma1 \n",
    "Sigma[1,1] = sigma2\n",
    "print(Sigma)"
   ]
  },
  {
   "cell_type": "markdown",
   "metadata": {},
   "source": [
    "\\begin{eqnarray*}\n",
    "\\Sigma = \n",
    "\\begin{bmatrix}\n",
    "\\sqrt{\\lambda_1} & 0 \\\\\n",
    "0 & \\sqrt{\\lambda_2}\n",
    "\\end{bmatrix} \n",
    "=\n",
    "\\begin{bmatrix}\n",
    "2.0233 & 0 \\\\\n",
    "0 & 32.0298\n",
    "\\end{bmatrix} \n",
    "\\end{eqnarray*}"
   ]
  },
  {
   "cell_type": "markdown",
   "metadata": {},
   "source": [
    "### --------------------scratch work to calculate 1st eigenvector"
   ]
  },
  {
   "cell_type": "code",
   "execution_count": 38,
   "metadata": {},
   "outputs": [
    {
     "name": "stdout",
     "output_type": "stream",
     "text": [
      "10.9061 1010.9061\n"
     ]
    }
   ],
   "source": [
    "print(round(15-lambda1,4), round(1015 - lambda1,4))"
   ]
  },
  {
   "cell_type": "code",
   "execution_count": 39,
   "metadata": {},
   "outputs": [
    {
     "name": "stdout",
     "output_type": "stream",
     "text": [
      "vector \t\t\t magnitude\n",
      "[-9.6277  1.    ] \t 9.679471031353302\n",
      "[-0.9946  0.1033] \t 1.0\n"
     ]
    }
   ],
   "source": [
    "v1 = np.asarray([-105/(15-lambda1), 1])\n",
    "v1_normalized = v1/np.linalg.norm(v1)\n",
    "\n",
    "print(\"vector \\t\\t\\t magnitude\")\n",
    "print(np.round(v1,4), '\\t', np.linalg.norm(v1))\n",
    "print(np.round(v1_normalized,4), '\\t', np.linalg.norm(v1_normalized))"
   ]
  },
  {
   "cell_type": "markdown",
   "metadata": {},
   "source": [
    "### --------------------scratch work to calculate 2nd eigenvector"
   ]
  },
  {
   "cell_type": "code",
   "execution_count": 41,
   "metadata": {},
   "outputs": [
    {
     "name": "stdout",
     "output_type": "stream",
     "text": [
      "-1010.9061 -10.9061\n"
     ]
    }
   ],
   "source": [
    "print(round(15-lambda2,4), round(1015 - lambda2,4))"
   ]
  },
  {
   "cell_type": "code",
   "execution_count": 42,
   "metadata": {},
   "outputs": [
    {
     "name": "stdout",
     "output_type": "stream",
     "text": [
      "vector \t\t\t magnitude\n",
      "[1.     9.6277] \t 9.679471031353302\n",
      "[0.1033 0.9946] \t 1.0\n"
     ]
    }
   ],
   "source": [
    "v2 = np.asarray([1, 105/(15-lambda1)])\n",
    "v2_normalized = v2/np.linalg.norm(v2)\n",
    "\n",
    "print(\"vector \\t\\t\\t magnitude\")\n",
    "print(np.round(v2,4), '\\t', np.linalg.norm(v2))\n",
    "print(np.round(v2_normalized,4), '\\t', np.linalg.norm(v2_normalized))\n",
    "\n",
    "# print(v2)\n",
    "# print(np.round(v_normalized,4))"
   ]
  },
  {
   "cell_type": "code",
   "execution_count": 43,
   "metadata": {},
   "outputs": [
    {
     "name": "stdout",
     "output_type": "stream",
     "text": [
      "[[-0.99464906  0.10331143]\n",
      " [ 0.10331143  0.99464906]]\n"
     ]
    }
   ],
   "source": [
    "V = np.zeros([2,2])\n",
    "V[:,0] = v1_normalized \n",
    "V[:,1] = v2_normalized\n",
    "print(V)"
   ]
  },
  {
   "cell_type": "markdown",
   "metadata": {},
   "source": [
    "\\begin{eqnarray*}\n",
    "\\pmb{V} = \n",
    "\\begin{bmatrix}\n",
    "\\pmb{v}_{\\text{normalized}} & \\pmb{v}_{\\text{normalized}}^\" \n",
    "\\end{bmatrix}\n",
    "=\n",
    "\\begin{bmatrix}\n",
    "-0.9946 & 0.1033 \\\\\n",
    "0.1033 & 0.9946\n",
    "\\end{bmatrix}\n",
    "\\end{eqnarray*}"
   ]
  },
  {
   "cell_type": "markdown",
   "metadata": {},
   "source": [
    "### --------------------scratch work to calculate matrix $\\pmb{U}$"
   ]
  },
  {
   "cell_type": "code",
   "execution_count": 44,
   "metadata": {
    "scrolled": true
   },
   "outputs": [
    {
     "name": "stdout",
     "output_type": "stream",
     "text": [
      "-0.9946 & 0.1033 \\\\\n",
      "-0.8913 & 1.098 \\\\\n",
      "-0.788 & 2.0926 \\\\\n",
      "-0.6847 & 3.0873 \\\\\n",
      "-0.5814 & 4.0819 \\\\\n",
      "-0.4781 & 5.0766 \\\\\n",
      "-0.3748 & 6.0712 \\\\\n",
      "-0.2715 & 7.0659 \\\\\n",
      "-0.1682 & 8.0605 \\\\\n",
      "-0.0648 & 9.0552 \\\\\n",
      "0.0385 & 10.0498 \\\\\n",
      "0.1418 & 11.0445 \\\\\n",
      "0.2451 & 12.0391 \\\\\n",
      "0.3484 & 13.0337 \\\\\n",
      "0.4517 & 14.0284 \\\\\n"
     ]
    }
   ],
   "source": [
    "XV = X * np.asmatrix(V) \n",
    "\n",
    "# print(np.round(np.linalg.norm(XV[:,0]),4), np.round(np.linalg.norm(XV[:,1]),4))\n",
    "\n",
    "for ii in range(0,len(XV)):\n",
    "    print(np.round(XV[ii,0],4), '&', np.round(XV[ii,1],4), \"\\\\\\\\\")"
   ]
  },
  {
   "cell_type": "markdown",
   "metadata": {},
   "source": [
    "--------------------------------------\n",
    "\n",
    "### <font color = 'red'> Check... </font>\n",
    "\n",
    "\\begin{equation*}\n",
    "\\boxed{\n",
    "\\pmb{X} \\pmb{V} = \\pmb{U} \\pmb{\\Sigma}\n",
    "}\n",
    "\\end{equation*}\n",
    "\n",
    "The magnitude of each column in matrix $\\pmb{XV}$ \n",
    "<font color = 'red'> SHOULD </font> equal each \n",
    "corresponding diagonal element in $\\Sigma$\n",
    "\n",
    "\\begin{equation*}\n",
    "\\pmb{XV} = \n",
    "\\begin{bmatrix}\n",
    "xv_{11} & xv_{12} \\\\\n",
    "xv_{21} & xv_{22} \\\\\n",
    "... & ... \\\\\n",
    "xv_{N1} & xv_{N2} \\\\\n",
    "\\end{bmatrix}\n",
    "\\end{equation*}\n",
    "\n",
    "where $N =$ total \\# of datapts \n",
    "\n",
    "\\begin{equation*}\n",
    "\\pmb{\\Sigma} = \n",
    "\\begin{bmatrix}\n",
    "\\sigma_{11} & 0 \\\\\n",
    "0 & \\sigma_{22}\n",
    "\\end{bmatrix}\n",
    "\\end{equation*}\n",
    "\n",
    "where $\\sigma_{11} = \\sqrt{\\lambda_1}$ and $\\sigma_{22} = \\sqrt{\\lambda_2}$\n",
    "\n",
    "$\\sigma_{11} = \\sqrt{xv_{11}^2 + xv_{21}^2 + ... + xv_{N1}^2}$ and \n",
    "$\\sigma_{22} = \\sqrt{xv_{12}^2 + xv_{22}^2 + ... + xv_{N2}^2}$"
   ]
  },
  {
   "cell_type": "code",
   "execution_count": 45,
   "metadata": {},
   "outputs": [
    {
     "name": "stdout",
     "output_type": "stream",
     "text": [
      "[0. 0.]\n"
     ]
    }
   ],
   "source": [
    "diff = np.zeros([2])\n",
    "diff[0] = np.linalg.norm(XV[:,0]) - Sigma[0,0]\n",
    "diff[1] = np.linalg.norm(XV[:,1]) - Sigma[1,1]\n",
    "\n",
    "print(np.round(diff,4))"
   ]
  },
  {
   "cell_type": "markdown",
   "metadata": {},
   "source": [
    "### <font color = 'red'> ...it checks out! </font>\n",
    "\n",
    "----------------------------------"
   ]
  },
  {
   "cell_type": "code",
   "execution_count": 46,
   "metadata": {},
   "outputs": [
    {
     "name": "stdout",
     "output_type": "stream",
     "text": [
      "-0.4916 & 0.0032 \\\\\n",
      "-0.4405 & 0.0343 \\\\\n",
      "-0.3895 & 0.0653 \\\\\n",
      "-0.3384 & 0.0964 \\\\\n",
      "-0.2873 & 0.1274 \\\\\n",
      "-0.2363 & 0.1585 \\\\\n",
      "-0.1852 & 0.1895 \\\\\n",
      "-0.1342 & 0.2206 \\\\\n",
      "-0.0831 & 0.2517 \\\\\n",
      "-0.032 & 0.2827 \\\\\n",
      "0.019 & 0.3138 \\\\\n",
      "0.0701 & 0.3448 \\\\\n",
      "0.1211 & 0.3759 \\\\\n",
      "0.1722 & 0.4069 \\\\\n",
      "0.2232 & 0.438 \\\\\n"
     ]
    }
   ],
   "source": [
    "u1 = XV[:,0]/np.linalg.norm(XV[:,0])\n",
    "u2 = XV[:,1]/np.linalg.norm(XV[:,1])\n",
    "\n",
    "# print(\"vector \\t\\t\\t magnitude\")\n",
    "# print(np.round(u1,4), '\\t', np.linalg.norm(u1))\n",
    "# print(np.round(u2,4), '\\t', np.linalg.norm(u2))\n",
    "\n",
    "\n",
    "U = np.asmatrix(np.zeros([len(XV),2]))\n",
    "U[:,0] = u1\n",
    "U[:,1] = u2\n",
    "# print(U)\n",
    "\n",
    "for ii in range(0,len(U)):\n",
    "    print(np.round(U[ii,0],4), '&', np.round(U[ii,1],4), \"\\\\\\\\\")"
   ]
  },
  {
   "cell_type": "code",
   "execution_count": 1057,
   "metadata": {},
   "outputs": [
    {
     "data": {
      "text/latex": [
       "$\\displaystyle \\pmb{X}\\pmb{V}-\\pmb{U}\\pmb{\\Sigma} = \\pmb{0}$"
      ],
      "text/plain": [
       "<IPython.core.display.Math object>"
      ]
     },
     "metadata": {},
     "output_type": "display_data"
    },
    {
     "name": "stdout",
     "output_type": "stream",
     "text": [
      "[[ 0.  0.]\n",
      " [ 0.  0.]\n",
      " [ 0.  0.]\n",
      " [ 0.  0.]\n",
      " [ 0.  0.]\n",
      " [ 0.  0.]\n",
      " [ 0.  0.]\n",
      " [ 0.  0.]\n",
      " [ 0.  0.]\n",
      " [ 0.  0.]\n",
      " [-0.  0.]\n",
      " [-0.  0.]\n",
      " [-0.  0.]\n",
      " [-0.  0.]\n",
      " [-0.  0.]]\n"
     ]
    }
   ],
   "source": [
    "USigma = np.matrix(U)*Sigma\n",
    "\n",
    "display(Math('\\pmb{X}\\pmb{V}-\\pmb{U}\\pmb{\\Sigma} = \\pmb{0}'))\n",
    "print(np.round(USigma-XV,4))"
   ]
  },
  {
   "cell_type": "markdown",
   "metadata": {},
   "source": [
    "## Actually, computing $\\pmb{\\beta}$ via SVD\n",
    "\n",
    "ref: https://www.quora.com/What-is-the-relation-between-least-squares-estimation-and-singular-value-decomposition"
   ]
  },
  {
   "cell_type": "code",
   "execution_count": 47,
   "metadata": {},
   "outputs": [
    {
     "name": "stdout",
     "output_type": "stream",
     "text": [
      "[[0.49423005 0.        ]\n",
      " [0.         0.03122096]]\n"
     ]
    }
   ],
   "source": [
    "# len(Sigma)\n",
    "Sigma_pseudo = np.asmatrix(np.zeros([len(Sigma),len(Sigma)]))\n",
    "Sigma_pseudo[0,0] = 1/Sigma[0,0]\n",
    "Sigma_pseudo[1,1] = 1/Sigma[1,1]\n",
    "print(Sigma_pseudo)\n",
    "# print(Sigma_pseudo.T)"
   ]
  },
  {
   "cell_type": "code",
   "execution_count": 48,
   "metadata": {},
   "outputs": [
    {
     "name": "stdout",
     "output_type": "stream",
     "text": [
      "[[0.3       ]\n",
      " [0.86571429]]\n"
     ]
    }
   ],
   "source": [
    "tmp1 = np.asmatrix(V) * Sigma_pseudo \n",
    "tmp2 = tmp1 * np.asmatrix(U.T)\n",
    "tmp3 = y.reshape(len(y),1)\n",
    "beta = tmp2 * np.asmatrix(tmp3)\n",
    "print(beta)\n",
    "# * U * y\n",
    "# print(U.shape)"
   ]
  },
  {
   "cell_type": "markdown",
   "metadata": {},
   "source": [
    "## Check/Compare...\n",
    "\n",
    "...compare your computation of matrices $\\pmb{U}$, $\\pmb{\\Sigma}$ $\\pmb{V}$ with that returned by np.linalg.svd()"
   ]
  },
  {
   "cell_type": "code",
   "execution_count": 49,
   "metadata": {},
   "outputs": [
    {
     "name": "stdout",
     "output_type": "stream",
     "text": [
      "<class 'numpy.matrix'>\n",
      "(15, 15)\n",
      "(2,)\n",
      "(2, 2)\n"
     ]
    }
   ],
   "source": [
    "Up, Sigmap, Vp = np.linalg.svd(X)\n",
    "Up = np.asmatrix(Up)\n",
    "print(type(Up))\n",
    "print(Up.shape)\n",
    "print(Sigmap.shape)\n",
    "print(Vp.shape)"
   ]
  },
  {
   "cell_type": "code",
   "execution_count": 50,
   "metadata": {},
   "outputs": [
    {
     "name": "stdout",
     "output_type": "stream",
     "text": [
      "[[0.3        0.86571429]]\n"
     ]
    }
   ],
   "source": [
    "r = [0.0, 0.0]\n",
    "r += (1/Sigmap[0]) * (Up[:,0].T*tmp3) * (Vp[:,0].T) \n",
    "r += (1/Sigmap[1]) * (Up[:,1].T*tmp3) * (Vp[:,1].T)\n",
    "print(r)"
   ]
  },
  {
   "cell_type": "markdown",
   "metadata": {},
   "source": [
    "# <font color = 'red'> PROBLEM3: </font>\n",
    "\n",
    "... your values of $\\pmb{\\beta}$ are the same as those computed using matrices $\\pmb{U}$, $\\pmb{\\Sigma}$ $\\pmb{V}$   returned by np.linalg.svd()\n",
    "\n",
    "### BUT \n",
    "\n",
    "... both values of $\\pmb{\\beta}$ are WRONG (or just different) from those online!!\n",
    "\n",
    "\\begin{equation*}\n",
    "\\pmb{\\beta} =\n",
    "\\begin{bmatrix}\n",
    "0.90888948 \\\\ 0.11567684\n",
    "\\end{bmatrix}\n",
    "\\end{equation*}\n",
    "\n",
    "ref: https://austingwalters.com/using-svd-to-obtain-regression-lines/\n",
    "\n",
    "### note: is it really a problem that the values of $\\pmb{\\beta}$ you calculate are different from those on the website?\n",
    "\n",
    "Ans: No, BUT $\\pmb{\\beta}$ is NOT computed iteratively.  \n",
    "\n",
    "<font color = 'green'>\n",
    "I.e., there isn't multiple guesses aka Monte Carlo \n",
    "method to find the best/least-squares estimates \n",
    "of $\\pmb{\\beta}$.  So how do you know if the first value \n",
    "of $\\pmb{\\beta}$ that you calculate is in fact the best???\n",
    "</font>\n"
   ]
  },
  {
   "cell_type": "markdown",
   "metadata": {},
   "source": [
    "## Things to do:\n",
    "\n",
    "1) figure out why $\\pmb{\\beta}$ is wrong (or different) from the values online\n",
    "\n",
    "2) type notes on pseudo-inverse matrix"
   ]
  },
  {
   "cell_type": "code",
   "execution_count": 54,
   "metadata": {},
   "outputs": [],
   "source": [
    "yfit = np.asmatrix(X) * np.asmatrix(beta)\n",
    "y = y.reshape(yfit.shape[0],yfit.shape[1])\n",
    "error = y - yfit\n",
    "\n",
    "# --------------------------------------\n",
    "beta2 = np.zeros([2,1])\n",
    "beta2[0] = 0.11567684\n",
    "beta2[1] = 0.90888948 \n",
    "\n",
    "yfit2 = np.asmatrix(X) * np.asmatrix(beta2)\n",
    "error2 = y - yfit2\n",
    "\n",
    "# dispaly(math('for \\pmb{\\beta} ='))\n",
    "\n",
    "# print('\\t', beta)\n",
    "\n",
    "\n",
    "# print(beta2)\n",
    "# for ii in range(0,len(yfit)):\n",
    "#     print(np.round(y[ii],4),'\\t',np.round(yfit[ii],4), '\\t', np.round(error[ii],4)) "
   ]
  },
  {
   "cell_type": "code",
   "execution_count": 55,
   "metadata": {},
   "outputs": [
    {
     "data": {
      "text/latex": [
       "$\\displaystyle \\pmb{\\beta} = $"
      ],
      "text/plain": [
       "<IPython.core.display.Math object>"
      ]
     },
     "metadata": {},
     "output_type": "display_data"
    },
    {
     "data": {
      "text/latex": [
       "$\\displaystyle 0.3$"
      ],
      "text/plain": [
       "<IPython.core.display.Math object>"
      ]
     },
     "metadata": {},
     "output_type": "display_data"
    },
    {
     "data": {
      "text/latex": [
       "$\\displaystyle 0.8657$"
      ],
      "text/plain": [
       "<IPython.core.display.Math object>"
      ]
     },
     "metadata": {},
     "output_type": "display_data"
    },
    {
     "data": {
      "text/latex": [
       "$\\displaystyle \\| \\pmb{y}- \\pmb{\\hat{y}} \\|=$"
      ],
      "text/plain": [
       "<IPython.core.display.Math object>"
      ]
     },
     "metadata": {},
     "output_type": "display_data"
    },
    {
     "data": {
      "text/latex": [
       "$\\displaystyle 6.3314$"
      ],
      "text/plain": [
       "<IPython.core.display.Math object>"
      ]
     },
     "metadata": {},
     "output_type": "display_data"
    },
    {
     "name": "stdout",
     "output_type": "stream",
     "text": [
      "------------------------------\n"
     ]
    },
    {
     "data": {
      "text/latex": [
       "$\\displaystyle \\pmb{\\beta_{online}} = $"
      ],
      "text/plain": [
       "<IPython.core.display.Math object>"
      ]
     },
     "metadata": {},
     "output_type": "display_data"
    },
    {
     "data": {
      "text/latex": [
       "$\\displaystyle 0.1157$"
      ],
      "text/plain": [
       "<IPython.core.display.Math object>"
      ]
     },
     "metadata": {},
     "output_type": "display_data"
    },
    {
     "data": {
      "text/latex": [
       "$\\displaystyle 0.9089$"
      ],
      "text/plain": [
       "<IPython.core.display.Math object>"
      ]
     },
     "metadata": {},
     "output_type": "display_data"
    },
    {
     "data": {
      "text/latex": [
       "$\\displaystyle \\| \\pmb{y}- \\pmb{\\hat{y}} \\|=$"
      ],
      "text/plain": [
       "<IPython.core.display.Math object>"
      ]
     },
     "metadata": {},
     "output_type": "display_data"
    },
    {
     "data": {
      "text/latex": [
       "$\\displaystyle 6.3888$"
      ],
      "text/plain": [
       "<IPython.core.display.Math object>"
      ]
     },
     "metadata": {},
     "output_type": "display_data"
    }
   ],
   "source": [
    "# display(Math('\\Delta V = V_{\\\\text{end of S1}} - V_{\\\\text{start of s2}}'))\n",
    "# dispaly(Math('2 ='))\n",
    "display(Math('\\pmb{\\\\beta} = '))\n",
    "display(Math('{}'.format(np.round(np.linalg.norm(beta[0]),4))))\n",
    "display(Math('{}'.format(np.round(np.linalg.norm(beta[1]),4))))\n",
    "\n",
    "\n",
    "\n",
    "display(Math('\\| \\pmb{y}- \\pmb{\\hat{y}} \\|='))\n",
    "display(Math('{}'.format(np.round(np.linalg.norm(error),4))))\n",
    "\n",
    "print(\"------------------------------\")\n",
    "\n",
    "display(Math('\\pmb{\\\\beta_{online}} = '))\n",
    "display(Math('{}'.format(np.round(np.linalg.norm(beta2[0]),4))))\n",
    "display(Math('{}'.format(np.round(np.linalg.norm(beta2[1]),4))))\n",
    "\n",
    "\n",
    "\n",
    "display(Math('\\| \\pmb{y}- \\pmb{\\hat{y}} \\|='))\n",
    "display(Math('{}'.format(np.round(np.linalg.norm(error2),4))))\n",
    "\n"
   ]
  },
  {
   "cell_type": "code",
   "execution_count": 56,
   "metadata": {},
   "outputs": [
    {
     "data": {
      "text/plain": [
       "Text(0, 0.5, 'y')"
      ]
     },
     "execution_count": 56,
     "metadata": {},
     "output_type": "execute_result"
    },
    {
     "data": {
      "image/png": "[encoded data removed]",
      "text/plain": [
       "<Figure size 1152x720 with 1 Axes>"
      ]
     },
     "metadata": {
      "needs_background": "light"
     },
     "output_type": "display_data"
    }
   ],
   "source": [
    "plt.plot(x,y,'*',ms=20)\n",
    "plt.plot(x,yfit,'o-',mfc='none')\n",
    "plt.plot(x,yfit2,'^-',mfc='none')\n",
    "\n",
    "plt.legend(['y','$\\hat{y} = X\\\\beta$','$\\hat{y} = X\\\\beta_{online}$'])\n",
    "plt.xlabel('x')\n",
    "plt.ylabel('y')"
   ]
  },
  {
   "cell_type": "markdown",
   "metadata": {},
   "source": [
    "# <font color = 'red'> PROBLEM1: </font> (<font color ='green'> SOLVED </font> )\n",
    "\n",
    "the magnitude of each column in matrix $\\pmb{XV}$ <font color ='red'> SHOULD </font> equal a corresponding diagonal element in \n",
    "\n",
    "# <font color = 'red'> PROBLEM2: </font> (<font color='green'> SOLVED </font> )\n",
    "    \n",
    "Matrices $\\pmb{U}$, $\\pmb{\\Sigma}$ $\\pmb{V}$ that you compute \n",
    "look nothing like those returned by np.linalg.svd()"
   ]
  },
  {
   "cell_type": "markdown",
   "metadata": {},
   "source": [
    "## ----------------------------------------------------------\n",
    "\n",
    "## More on SVD\n",
    "\n",
    "ref: https://blog.statsbot.co/singular-value-decomposition-tutorial-52c695315254"
   ]
  },
  {
   "cell_type": "code",
   "execution_count": null,
   "metadata": {},
   "outputs": [],
   "source": []
  }
 ],
 "metadata": {
  "kernelspec": {
   "display_name": "Python 3",
   "language": "python",
   "name": "python3"
  },
  "language_info": {
   "codemirror_mode": {
    "name": "ipython",
    "version": 3
   },
   "file_extension": ".py",
   "mimetype": "text/x-python",
   "name": "python",
   "nbconvert_exporter": "python",
   "pygments_lexer": "ipython3",
   "version": "3.7.1"
  }
 },
 "nbformat": 4,
 "nbformat_minor": 2
}
